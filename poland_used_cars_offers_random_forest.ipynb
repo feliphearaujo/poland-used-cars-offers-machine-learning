{
  "nbformat": 4,
  "nbformat_minor": 0,
  "metadata": {
    "colab": {
      "provenance": [],
      "gpuType": "T4",
      "authorship_tag": "ABX9TyPSFS4YSvY94fBulX0mHqHt",
      "include_colab_link": true
    },
    "kernelspec": {
      "name": "python3",
      "display_name": "Python 3"
    },
    "language_info": {
      "name": "python"
    }
  },
  "cells": [
    {
      "cell_type": "markdown",
      "metadata": {
        "id": "view-in-github",
        "colab_type": "text"
      },
      "source": [
        "<a href=\"https://colab.research.google.com/github/feliphearaujo/poland-used-cars-offers-machine-learning/blob/main/poland_used_cars_offers_random_forest.ipynb\" target=\"_parent\"><img src=\"https://colab.research.google.com/assets/colab-badge.svg\" alt=\"Open In Colab\"/></a>"
      ]
    },
    {
      "cell_type": "markdown",
      "source": [
        "A) SVR Regression Model\n"
      ],
      "metadata": {
        "id": "dn4aX_OoLO2k"
      }
    },
    {
      "cell_type": "code",
      "execution_count": null,
      "metadata": {
        "id": "al_9eUxSKzWB"
      },
      "outputs": [],
      "source": [
        "import pandas as pd\n",
        "import numpy as np\n",
        "import seaborn as sns"
      ]
    },
    {
      "cell_type": "code",
      "source": [
        "url=\"https://github.com/feliphearaujo/poland-used-cars-offers-machine-learning/blob/main/dataset/data.csv?raw=true\"\n",
        "df = pd.read_csv(url, sep = \",\")"
      ],
      "metadata": {
        "id": "o-6VgJPCLr_T"
      },
      "execution_count": null,
      "outputs": []
    },
    {
      "cell_type": "code",
      "source": [
        "df.info()"
      ],
      "metadata": {
        "id": "vk8V42P6Q7kj"
      },
      "execution_count": null,
      "outputs": []
    },
    {
      "cell_type": "code",
      "source": [
        "df.head()"
      ],
      "metadata": {
        "id": "I2dxLeXymiqE"
      },
      "execution_count": null,
      "outputs": []
    },
    {
      "cell_type": "code",
      "source": [
        "valor_especifico = 'km'\n",
        "df = df[~df['year'].str.contains(valor_especifico)]\n",
        "\n",
        "# Exibindo o DataFrame após a eliminação das linhas\n",
        "print(\"\\nDataFrame após a eliminação das linhas:\")\n",
        "print(df)"
      ],
      "metadata": {
        "id": "XfjpYYH9y4rk"
      },
      "execution_count": null,
      "outputs": []
    },
    {
      "cell_type": "code",
      "source": [
        "valor_especifico = 'cm'\n",
        "df = df[~df['year'].str.contains(valor_especifico)]\n",
        "\n",
        "# Exibindo o DataFrame após a eliminação das linhas\n",
        "print(\"\\nDataFrame após a eliminação das linhas:\")\n",
        "print(df)"
      ],
      "metadata": {
        "id": "acuA3A_10Pz9"
      },
      "execution_count": null,
      "outputs": []
    },
    {
      "cell_type": "code",
      "source": [
        "valor_especifico = 'Elektryczny'\n",
        "df = df[~df['year'].str.contains(valor_especifico)]\n",
        "\n",
        "# Exibindo o DataFrame após a eliminação das linhas\n",
        "print(\"\\nDataFrame após a eliminação das linhas:\")\n",
        "print(df)"
      ],
      "metadata": {
        "id": "nAAVE48A0bcc"
      },
      "execution_count": null,
      "outputs": []
    },
    {
      "cell_type": "code",
      "source": [
        "valor_especifico = 'Benzyna'\n",
        "df = df[~df['year'].str.contains(valor_especifico)]\n",
        "\n",
        "# Exibindo o DataFrame após a eliminação das linhas\n",
        "print(\"\\nDataFrame após a eliminação das linhas:\")\n",
        "print(df)"
      ],
      "metadata": {
        "id": "cWF4yGAL0nJW"
      },
      "execution_count": null,
      "outputs": []
    },
    {
      "cell_type": "code",
      "source": [
        "valor_especifico = 'Diesel'\n",
        "df = df[~df['year'].str.contains(valor_especifico)]\n",
        "\n",
        "# Exibindo o DataFrame após a eliminação das linhas\n",
        "print(\"\\nDataFrame após a eliminação das linhas:\")\n",
        "print(df)"
      ],
      "metadata": {
        "id": "B1zLGJAk0stF"
      },
      "execution_count": null,
      "outputs": []
    },
    {
      "cell_type": "code",
      "source": [
        "valor_especifico = 'Hybryda'\n",
        "df = df[~df['year'].str.contains(valor_especifico)]\n",
        "\n",
        "# Exibindo o DataFrame após a eliminação das linhas\n",
        "print(\"\\nDataFrame após a eliminação das linhas:\")\n",
        "print(df)"
      ],
      "metadata": {
        "id": "leAp9G7F0xZr"
      },
      "execution_count": null,
      "outputs": []
    },
    {
      "cell_type": "code",
      "source": [
        "opcoes_unicas = df['year'].unique()\n",
        "print(opcoes_unicas)\n",
        "\n",
        "contagem_opcoes = df['year'].value_counts()\n",
        "print(contagem_opcoes)"
      ],
      "metadata": {
        "id": "V2_m0A-2Tl4i"
      },
      "execution_count": null,
      "outputs": []
    },
    {
      "cell_type": "code",
      "source": [
        "df['year'] = df['year'].astype(float)"
      ],
      "metadata": {
        "id": "fxOpp5Wq1Bxe"
      },
      "execution_count": null,
      "outputs": []
    },
    {
      "cell_type": "code",
      "source": [
        "#df = df.drop('year', axis=1)"
      ],
      "metadata": {
        "id": "VFIc6xE2oGP0"
      },
      "execution_count": null,
      "outputs": []
    },
    {
      "cell_type": "code",
      "source": [
        "opcoes_unicas = df['engine_capacity'].unique()\n",
        "print(opcoes_unicas)\n",
        "\n",
        "contagem_opcoes = df['engine_capacity'].value_counts()\n",
        "print(contagem_opcoes)"
      ],
      "metadata": {
        "id": "UEJ1OYWco3qu"
      },
      "execution_count": null,
      "outputs": []
    },
    {
      "cell_type": "code",
      "source": [
        "valor_especifico = 'cm3'\n",
        "df = df[df['engine_capacity'].str.contains(valor_especifico)]"
      ],
      "metadata": {
        "id": "jQc3Y277XYsg"
      },
      "execution_count": null,
      "outputs": []
    },
    {
      "cell_type": "code",
      "source": [
        "df['engine_capacity'] = df['engine_capacity'].str.replace(' cm3', '')\n",
        "\n",
        "# Exibindo o DataFrame com \"cm3\" removido\n",
        "print(\"\\nDataFrame com 'cm3' removido:\")\n",
        "print(df)"
      ],
      "metadata": {
        "id": "WS6XKICnYFRg"
      },
      "execution_count": null,
      "outputs": []
    },
    {
      "cell_type": "code",
      "source": [
        "df['engine_capacity'] = df['engine_capacity'].str.replace(' ', '')\n",
        "\n",
        "# Exibindo o DataFrame com \" \" removido\n",
        "print(\"\\nDataFrame com ' ' removido:\")\n",
        "print(df)"
      ],
      "metadata": {
        "id": "LaWwMTirY5dz"
      },
      "execution_count": null,
      "outputs": []
    },
    {
      "cell_type": "code",
      "source": [
        "df['engine_capacity'] = df['engine_capacity'].astype(float)"
      ],
      "metadata": {
        "id": "TGUYRARuYo1j"
      },
      "execution_count": null,
      "outputs": []
    },
    {
      "cell_type": "code",
      "source": [
        "df.info()"
      ],
      "metadata": {
        "id": "RuaROQUR1eWG"
      },
      "execution_count": null,
      "outputs": []
    },
    {
      "cell_type": "code",
      "source": [
        "df.head()"
      ],
      "metadata": {
        "id": "KoR5nCuK2F53"
      },
      "execution_count": null,
      "outputs": []
    },
    {
      "cell_type": "code",
      "source": [
        "\n",
        "df[\"gearbox\"] = df[\"gearbox\"].astype('category')\n",
        "df['gearbox'] = df['gearbox'].cat.codes"
      ],
      "metadata": {
        "id": "RqypaOiasYbP"
      },
      "execution_count": null,
      "outputs": []
    },
    {
      "cell_type": "code",
      "source": [
        "opcoes_unicas = df['brand'].unique()\n",
        "print(opcoes_unicas)\n",
        "\n",
        "contagem_opcoes = df['brand'].value_counts()\n",
        "print(contagem_opcoes)"
      ],
      "metadata": {
        "id": "kbn3DLjM2WGc"
      },
      "execution_count": null,
      "outputs": []
    },
    {
      "cell_type": "code",
      "source": [
        "df[\"brand\"] = df[\"brand\"].astype('category')\n",
        "df['brand'] = df['brand'].cat.codes"
      ],
      "metadata": {
        "id": "o0tyMZ8y2oLM"
      },
      "execution_count": null,
      "outputs": []
    },
    {
      "cell_type": "code",
      "source": [
        "opcoes_unicas = df['model'].unique()\n",
        "print(opcoes_unicas)\n",
        "\n",
        "contagem_opcoes = df['model'].value_counts()\n",
        "print(contagem_opcoes)"
      ],
      "metadata": {
        "id": "Jb530ywa24im"
      },
      "execution_count": null,
      "outputs": []
    },
    {
      "cell_type": "code",
      "source": [
        "df[\"model\"] = df[\"model\"].astype('category')\n",
        "df['model'] = df['model'].cat.codes"
      ],
      "metadata": {
        "id": "lPqlswc73C4k"
      },
      "execution_count": null,
      "outputs": []
    },
    {
      "cell_type": "code",
      "source": [
        "df.info()"
      ],
      "metadata": {
        "id": "k883VrGU3Kac"
      },
      "execution_count": null,
      "outputs": []
    },
    {
      "cell_type": "code",
      "source": [
        "opcoes_unicas = df['mileage'].unique()\n",
        "print(opcoes_unicas)\n",
        "\n",
        "contagem_opcoes = df['mileage'].value_counts()\n",
        "print(contagem_opcoes)"
      ],
      "metadata": {
        "id": "H3xzjoR83O41"
      },
      "execution_count": null,
      "outputs": []
    },
    {
      "cell_type": "code",
      "source": [
        "valor_especifico = 'km'\n",
        "df = df[df['mileage'].str.contains(valor_especifico)]"
      ],
      "metadata": {
        "id": "IyXKne1w3coN"
      },
      "execution_count": null,
      "outputs": []
    },
    {
      "cell_type": "code",
      "source": [
        "df['mileage'] = df['mileage'].str.replace(' km', '')\n",
        "\n",
        "# Exibindo o DataFrame com \"cm3\" removido\n",
        "print(\"\\nDataFrame com 'cm3' removido:\")\n",
        "print(df)"
      ],
      "metadata": {
        "id": "KfkIcDfj4F_E"
      },
      "execution_count": null,
      "outputs": []
    },
    {
      "cell_type": "code",
      "source": [
        "df['mileage'] = df['mileage'].str.replace(' ', '')\n",
        "\n",
        "# Exibindo o DataFrame com \" \" removido\n",
        "print(\"\\nDataFrame com ' ' removido:\")\n",
        "print(df)"
      ],
      "metadata": {
        "id": "cfmZZLND3Vuc"
      },
      "execution_count": null,
      "outputs": []
    },
    {
      "cell_type": "code",
      "source": [
        "df['mileage'] = df['mileage'].astype(float)"
      ],
      "metadata": {
        "id": "0hRsjWpx43nH"
      },
      "execution_count": null,
      "outputs": []
    },
    {
      "cell_type": "code",
      "source": [
        "df.info()"
      ],
      "metadata": {
        "id": "QK4oUFpz4-jx"
      },
      "execution_count": null,
      "outputs": []
    },
    {
      "cell_type": "code",
      "source": [
        "opcoes_unicas = df['fuel_type'].unique()\n",
        "print(opcoes_unicas)\n",
        "\n",
        "contagem_opcoes = df['fuel_type'].value_counts()\n",
        "print(contagem_opcoes)"
      ],
      "metadata": {
        "id": "X8MywVl25Un3"
      },
      "execution_count": null,
      "outputs": []
    },
    {
      "cell_type": "code",
      "source": [
        "coluna_fuel_type = df['fuel_type']\n",
        "\n",
        "# Aplicando o get_dummies na coluna 'frutas'\n",
        "dummies_fuel_type = pd.get_dummies(coluna_fuel_type, prefix='fuel_type')\n",
        "\n",
        "# Concatenando as colunas binárias ao DataFrame original\n",
        "df = pd.concat([df, dummies_fuel_type], axis=1)\n",
        "\n",
        "# Exibindo o resultado\n",
        "print(df)"
      ],
      "metadata": {
        "id": "QtnH874z6JUR"
      },
      "execution_count": null,
      "outputs": []
    },
    {
      "cell_type": "code",
      "source": [
        "df.info()"
      ],
      "metadata": {
        "id": "G5Qbl1WMKwHa"
      },
      "execution_count": null,
      "outputs": []
    },
    {
      "cell_type": "code",
      "source": [
        "df = df.drop('fuel_type', axis=1)"
      ],
      "metadata": {
        "id": "TcOmy9UbK7aR"
      },
      "execution_count": null,
      "outputs": []
    },
    {
      "cell_type": "code",
      "source": [
        "opcoes_unicas = df['city'].unique()\n",
        "print(opcoes_unicas)\n",
        "\n",
        "contagem_opcoes = df['city'].value_counts()\n",
        "print(contagem_opcoes)"
      ],
      "metadata": {
        "id": "iOYiR5UDLM1z"
      },
      "execution_count": null,
      "outputs": []
    },
    {
      "cell_type": "code",
      "source": [
        "df[\"city\"] = df[\"city\"].astype('category')\n",
        "df['city'] = df['city'].cat.codes"
      ],
      "metadata": {
        "id": "WDIpxrVTLw9o"
      },
      "execution_count": null,
      "outputs": []
    },
    {
      "cell_type": "code",
      "source": [
        "df.info()"
      ],
      "metadata": {
        "id": "i9--YazdPjWk"
      },
      "execution_count": null,
      "outputs": []
    },
    {
      "cell_type": "code",
      "source": [
        "opcoes_unicas = df['voivodeship'].unique()\n",
        "print(opcoes_unicas)\n",
        "\n",
        "contagem_opcoes = df['voivodeship'].value_counts()\n",
        "print(contagem_opcoes)"
      ],
      "metadata": {
        "id": "CDY0VfPoPoYa"
      },
      "execution_count": null,
      "outputs": []
    },
    {
      "cell_type": "code",
      "source": [
        "coluna_fuel_type = df['voivodeship']\n",
        "\n",
        "# Aplicando o get_dummies na coluna 'frutas'\n",
        "dummies_fuel_type = pd.get_dummies(coluna_fuel_type, prefix='voivodeship')\n",
        "\n",
        "# Concatenando as colunas binárias ao DataFrame original\n",
        "df = pd.concat([df, dummies_fuel_type], axis=1)\n",
        "\n",
        "# Exibindo o resultado\n",
        "print(df)"
      ],
      "metadata": {
        "id": "9guRPTeVSfby"
      },
      "execution_count": null,
      "outputs": []
    },
    {
      "cell_type": "code",
      "source": [
        "df = df.drop('voivodeship', axis=1)"
      ],
      "metadata": {
        "id": "eXJbmoVwS98e"
      },
      "execution_count": null,
      "outputs": []
    },
    {
      "cell_type": "code",
      "source": [
        "df.info()"
      ],
      "metadata": {
        "id": "-qi2tbIvTb9L"
      },
      "execution_count": null,
      "outputs": []
    },
    {
      "cell_type": "code",
      "source": [
        "\n",
        "correlation = df.corr()['price_in_pln']\n",
        "\n",
        "# Exibindo o resultado\n",
        "print(correlation)"
      ],
      "metadata": {
        "id": "ucQFabg4LY0Z"
      },
      "execution_count": null,
      "outputs": []
    },
    {
      "cell_type": "code",
      "source": [
        "def eliminar_outlier(df, colname):\n",
        "\n",
        "\n",
        "        z_mean = df[colname].mean()  #media\n",
        "        z_std  = df[colname].std()   #desvio padrao\n",
        "\n",
        "        z_corte_min = z_mean - 2.5 * z_std\n",
        "        z_corte_max = z_mean + 2.5 * z_std\n",
        "\n",
        "        lista_outlier =  []\n",
        "        for i in range(len(df)):\n",
        "            if ((df.iloc[i][colname] < z_corte_min) or (df.iloc[i][colname] > z_corte_max)):\n",
        "                 lista_outlier.append(i)\n",
        "\n",
        "        df = df.drop(df.index[lista_outlier])\n",
        "\n",
        "        return df"
      ],
      "metadata": {
        "id": "uflzUB5uT2y5"
      },
      "execution_count": null,
      "outputs": []
    },
    {
      "cell_type": "code",
      "source": [
        "for i in df.columns:\n",
        "  df = eliminar_outlier(df, i)"
      ],
      "metadata": {
        "id": "jqVr-wNzT4gl"
      },
      "execution_count": null,
      "outputs": []
    },
    {
      "cell_type": "code",
      "source": [
        "df.info()"
      ],
      "metadata": {
        "id": "nZUoJ6c5WdlH"
      },
      "execution_count": null,
      "outputs": []
    },
    {
      "cell_type": "code",
      "source": [
        "df_pronto = df"
      ],
      "metadata": {
        "id": "bAW7ZmNV9pi4"
      },
      "execution_count": null,
      "outputs": []
    },
    {
      "cell_type": "code",
      "source": [
        "############## Cria as variáveis independentes e dependente\n",
        "\n",
        "### Separar dados de treinamento e dados de teste.\n",
        "X = df[df.columns] #slice no dataframe e retorna dataframe\n",
        "X  = X.drop(['price_in_pln'], axis=1) #remove a variável dependente do X\n",
        "y = df[['price_in_pln']]"
      ],
      "metadata": {
        "id": "2C1XF5iZXs8B"
      },
      "execution_count": null,
      "outputs": []
    },
    {
      "cell_type": "code",
      "source": [
        "from sklearn.model_selection import train_test_split\n",
        "\n",
        "#divide o banco de dados em treinamento e teste. random_state é somente para gerar o mesmo resultado\n",
        "X_train, X_test, y_train, y_test = train_test_split(X, y, test_size = 0.2, random_state = 0)"
      ],
      "metadata": {
        "id": "9mT4hMlsX87S"
      },
      "execution_count": null,
      "outputs": []
    },
    {
      "cell_type": "code",
      "source": [
        "from sklearn.ensemble import RandomForestRegressor\n",
        "from sklearn.model_selection import GridSearchCV\n",
        "\n",
        "def rf_param_selection(features, labels, kfolds):\n",
        "\n",
        "    N_estimators  = [10, 100, 500, 1000]   #nr. de arvores na floresta\n",
        "    Max_depths    = [15, 30,  50,  100 ]   #profundidade das arvores\n",
        "\n",
        "    param_grid = {'n_estimators': N_estimators, 'max_depth' : Max_depths}\n",
        "\n",
        "\n",
        "    grid_search = GridSearchCV(RandomForestRegressor(), param_grid, cv=kfolds)\n",
        "    grid_search.fit(features, labels)\n",
        "    best_params = grid_search.best_params_\n",
        "\n",
        "    return best_params"
      ],
      "metadata": {
        "id": "6qef_zemAKHa"
      },
      "execution_count": null,
      "outputs": []
    },
    {
      "cell_type": "code",
      "source": [
        "best_params = rf_param_selection(X_train, np.array(y_train).ravel(), 5)\n",
        "print(best_params)"
      ],
      "metadata": {
        "colab": {
          "base_uri": "https://localhost:8080/"
        },
        "id": "4j1-Z6NlAL21",
        "outputId": "3694504a-6d0c-4db1-8d1e-c101a286862e"
      },
      "execution_count": null,
      "outputs": [
        {
          "output_type": "stream",
          "name": "stdout",
          "text": [
            "{'max_depth': 15, 'n_estimators': 1000}\n"
          ]
        }
      ]
    },
    {
      "cell_type": "code",
      "source": [
        "### criar o modelo Radom Forest\n",
        "from sklearn.ensemble import RandomForestRegressor\n",
        "\n",
        "\n",
        "#model_forest = RandomForestRegressor(random_state = 0)\n",
        "model_forest = RandomForestRegressor(n_estimators = 1000, max_depth = 200, random_state = 0)\n",
        "#model_forest = RandomForestRegressor(n_estimators = best_params['n_estimators'], max_depth = best_params['max_depth'], random_state = 0)\n",
        "\n",
        "model_forest.fit(X_train, np.array(y_train).ravel())\n",
        "\n",
        "y_pred_test = model_forest.predict(X_test)"
      ],
      "metadata": {
        "id": "6ar6LrjlMMdN"
      },
      "execution_count": null,
      "outputs": []
    },
    {
      "cell_type": "code",
      "source": [
        "y_pred_train = model_forest.predict(X_train)"
      ],
      "metadata": {
        "id": "U5_UfhYaMzp1"
      },
      "execution_count": null,
      "outputs": []
    },
    {
      "cell_type": "code",
      "source": [
        "resultado_test = pd.DataFrame()\n",
        "\n",
        "resultado_test[\"y_test\"] = y_test\n",
        "resultado_test[\"y_pred_test\"] = y_pred_test  #valores preditos para o conjunto de testes\n",
        "\n",
        "resultado_test.reset_index(inplace = True, drop=True)"
      ],
      "metadata": {
        "id": "ipjcN7IpM5mk"
      },
      "execution_count": null,
      "outputs": []
    },
    {
      "cell_type": "code",
      "source": [
        "print(resultado_test)"
      ],
      "metadata": {
        "id": "7Vf9qolNM63w"
      },
      "execution_count": null,
      "outputs": []
    },
    {
      "cell_type": "code",
      "source": [
        "resultado_train = pd.DataFrame()\n",
        "\n",
        "resultado_train[\"y_train\"] = y_train\n",
        "resultado_train[\"y_pred_train\"] = y_pred_train  #valores preditos para o conjunto de treinamento\n",
        "\n",
        "resultado_train.reset_index(inplace = True, drop=True)"
      ],
      "metadata": {
        "id": "JpIwTAYZNCWh"
      },
      "execution_count": null,
      "outputs": []
    },
    {
      "cell_type": "code",
      "source": [
        "print(resultado_train)"
      ],
      "metadata": {
        "colab": {
          "base_uri": "https://localhost:8080/"
        },
        "id": "UxPwOOIDNFpP",
        "outputId": "7b87b725-0ba0-451a-ba84-cb4037a4c64c"
      },
      "execution_count": null,
      "outputs": [
        {
          "output_type": "stream",
          "name": "stdout",
          "text": [
            "        y_train   y_pred_train\n",
            "0      119900.0  150174.042000\n",
            "1       88000.0   83574.379000\n",
            "2       49999.0   45989.148000\n",
            "3        7499.0    7687.972000\n",
            "4       64999.0   61647.984000\n",
            "...         ...            ...\n",
            "26455   84000.0   84823.334167\n",
            "26456   77500.0   70881.215000\n",
            "26457  139900.0  131826.008000\n",
            "26458   24400.0   36006.999000\n",
            "26459  159850.0  192259.659333\n",
            "\n",
            "[26460 rows x 2 columns]\n"
          ]
        }
      ]
    },
    {
      "cell_type": "code",
      "source": [
        "#importancia das variáveis\n",
        "feature_list = list(X.columns)\n",
        "\n",
        "# Get numerical feature importances\n",
        "importances = list(model_forest.feature_importances_)\n",
        "\n",
        "# List of tuples with variable and importance\n",
        "feature_importances = [(feature, round(importance, 2)) for feature, importance in zip(feature_list, importances)]\n",
        "\n",
        "# Sort the feature importances by most important first\n",
        "feature_importances = sorted(feature_importances, key = lambda x: x[1], reverse = True)\n",
        "\n",
        "# Print out the feature and importances\n",
        "[print('Variable: {:20} Importance: {}'.format(*pair)) for pair in feature_importances];"
      ],
      "metadata": {
        "id": "A2cSCG_VNJLn"
      },
      "execution_count": null,
      "outputs": []
    },
    {
      "cell_type": "code",
      "source": [
        "from sklearn.metrics import mean_squared_error\n",
        "\n",
        "score = model_forest.score(X_train, y_train)\n",
        "print(\"R2 do Treinamento:\", score)\n",
        "\n",
        "print(\"RMSE do Trainamento:\", np.sqrt(mean_squared_error(y_pred_train, y_train)))\n",
        "\n",
        "\n",
        "score = model_forest.score(X_test, y_test)\n",
        "print(\"R2 do Teste  :\", score)\n",
        "\n",
        "print(\"RMSE do Teste:\", np.sqrt(mean_squared_error(y_pred_test, y_test)))"
      ],
      "metadata": {
        "colab": {
          "base_uri": "https://localhost:8080/"
        },
        "id": "uCzaerkFNPEe",
        "outputId": "6f528cef-2190-478c-e8dc-486e9f21f99b"
      },
      "execution_count": null,
      "outputs": [
        {
          "output_type": "stream",
          "name": "stdout",
          "text": [
            "R2 do Treinamento: 0.9749826901479511\n",
            "RMSE do Trainamento: 9284.29543108689\n",
            "R2 do Teste  : 0.8252783049151609\n",
            "RMSE do Teste: 24422.05915299761\n"
          ]
        }
      ]
    }
  ]
}