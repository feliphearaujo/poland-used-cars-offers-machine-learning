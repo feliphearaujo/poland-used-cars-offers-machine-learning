{
  "cells": [
    {
      "cell_type": "markdown",
      "metadata": {
        "id": "view-in-github",
        "colab_type": "text"
      },
      "source": [
        "<a href=\"https://colab.research.google.com/github/feliphearaujo/poland-used-cars-offers-machine-learning/blob/main/poland_used_cars_offers_random_forest_with_lda.ipynb\" target=\"_parent\"><img src=\"https://colab.research.google.com/assets/colab-badge.svg\" alt=\"Open In Colab\"/></a>"
      ]
    },
    {
      "cell_type": "markdown",
      "metadata": {
        "id": "dn4aX_OoLO2k"
      },
      "source": [
        "B) Random Forest Regression Model with LDA\n",
        "\n"
      ]
    },
    {
      "cell_type": "code",
      "execution_count": null,
      "metadata": {
        "id": "al_9eUxSKzWB"
      },
      "outputs": [],
      "source": [
        "#importando as bibliotecas\n",
        "import pandas as pd\n",
        "import numpy as np\n",
        "import matplotlib.pyplot as plt\n",
        "import seaborn as sns"
      ]
    },
    {
      "cell_type": "code",
      "execution_count": null,
      "metadata": {
        "id": "o-6VgJPCLr_T"
      },
      "outputs": [],
      "source": [
        "url=\"https://github.com/feliphearaujo/poland-used-cars-offers-machine-learning/blob/main/dataset/data.csv?raw=true\"\n",
        "df = pd.read_csv(url, sep = \",\")"
      ]
    },
    {
      "cell_type": "code",
      "execution_count": null,
      "metadata": {
        "colab": {
          "base_uri": "https://localhost:8080/"
        },
        "id": "vk8V42P6Q7kj",
        "outputId": "f99e97b1-84bb-4ed1-be4f-116914b3a125"
      },
      "outputs": [
        {
          "output_type": "stream",
          "name": "stdout",
          "text": [
            "<class 'pandas.core.frame.DataFrame'>\n",
            "RangeIndex: 91523 entries, 0 to 91522\n",
            "Data columns (total 10 columns):\n",
            " #   Column           Non-Null Count  Dtype  \n",
            "---  ------           --------------  -----  \n",
            " 0   brand            91523 non-null  object \n",
            " 1   model            91523 non-null  object \n",
            " 2   price_in_pln     91523 non-null  float64\n",
            " 3   mileage          91523 non-null  object \n",
            " 4   gearbox          91523 non-null  object \n",
            " 5   engine_capacity  91523 non-null  object \n",
            " 6   fuel_type        91523 non-null  object \n",
            " 7   city             91523 non-null  object \n",
            " 8   voivodeship      91523 non-null  object \n",
            " 9   year             91523 non-null  object \n",
            "dtypes: float64(1), object(9)\n",
            "memory usage: 7.0+ MB\n"
          ]
        }
      ],
      "source": [
        "df.info()"
      ]
    },
    {
      "cell_type": "code",
      "execution_count": null,
      "metadata": {
        "colab": {
          "base_uri": "https://localhost:8080/",
          "height": 206
        },
        "id": "I2dxLeXymiqE",
        "outputId": "47bcc179-0ddd-4bfe-947f-822be55ebb73"
      },
      "outputs": [
        {
          "output_type": "execute_result",
          "data": {
            "text/plain": [
              "        brand                            model  price_in_pln     mileage  \\\n",
              "0  alfa-romeo  Alfa Romeo Spider 2.0-16 TSpark       14700.0  133 760 km   \n",
              "1  alfa-romeo    Alfa Romeo GTV 2.0 16v TSpark       14000.0  133 760 km   \n",
              "2  alfa-romeo  Alfa Romeo 164 2.0 TSpark Super        4500.0  227 000 km   \n",
              "3  alfa-romeo     Alfa Romeo Spider 2.0 TSpark       17100.0  227 000 km   \n",
              "4  alfa-romeo    Alfa Romeo 156 1.6 TSpark 16v        3900.0  239 000 km   \n",
              "\n",
              "  gearbox engine_capacity    fuel_type       city         voivodeship  year  \n",
              "0  manual       1 970 cm3      Benzyna       Łask             Łódzkie  1998  \n",
              "1  manual       1 970 cm3      Benzyna      Mława         Mazowieckie  1998  \n",
              "2  manual       1 970 cm3      Benzyna    Chełmża  Kujawsko-pomorskie  1996  \n",
              "3  manual       1 970 cm3      Benzyna      Jasło        Podkarpackie  1996  \n",
              "4  manual       1 995 cm3  Benzyna+LPG  Pabianice             Łódzkie  1995  "
            ],
            "text/html": [
              "\n",
              "  <div id=\"df-d98f537b-074d-41cc-b576-6fae38a8de17\">\n",
              "    <div class=\"colab-df-container\">\n",
              "      <div>\n",
              "<style scoped>\n",
              "    .dataframe tbody tr th:only-of-type {\n",
              "        vertical-align: middle;\n",
              "    }\n",
              "\n",
              "    .dataframe tbody tr th {\n",
              "        vertical-align: top;\n",
              "    }\n",
              "\n",
              "    .dataframe thead th {\n",
              "        text-align: right;\n",
              "    }\n",
              "</style>\n",
              "<table border=\"1\" class=\"dataframe\">\n",
              "  <thead>\n",
              "    <tr style=\"text-align: right;\">\n",
              "      <th></th>\n",
              "      <th>brand</th>\n",
              "      <th>model</th>\n",
              "      <th>price_in_pln</th>\n",
              "      <th>mileage</th>\n",
              "      <th>gearbox</th>\n",
              "      <th>engine_capacity</th>\n",
              "      <th>fuel_type</th>\n",
              "      <th>city</th>\n",
              "      <th>voivodeship</th>\n",
              "      <th>year</th>\n",
              "    </tr>\n",
              "  </thead>\n",
              "  <tbody>\n",
              "    <tr>\n",
              "      <th>0</th>\n",
              "      <td>alfa-romeo</td>\n",
              "      <td>Alfa Romeo Spider 2.0-16 TSpark</td>\n",
              "      <td>14700.0</td>\n",
              "      <td>133 760 km</td>\n",
              "      <td>manual</td>\n",
              "      <td>1 970 cm3</td>\n",
              "      <td>Benzyna</td>\n",
              "      <td>Łask</td>\n",
              "      <td>Łódzkie</td>\n",
              "      <td>1998</td>\n",
              "    </tr>\n",
              "    <tr>\n",
              "      <th>1</th>\n",
              "      <td>alfa-romeo</td>\n",
              "      <td>Alfa Romeo GTV 2.0 16v TSpark</td>\n",
              "      <td>14000.0</td>\n",
              "      <td>133 760 km</td>\n",
              "      <td>manual</td>\n",
              "      <td>1 970 cm3</td>\n",
              "      <td>Benzyna</td>\n",
              "      <td>Mława</td>\n",
              "      <td>Mazowieckie</td>\n",
              "      <td>1998</td>\n",
              "    </tr>\n",
              "    <tr>\n",
              "      <th>2</th>\n",
              "      <td>alfa-romeo</td>\n",
              "      <td>Alfa Romeo 164 2.0 TSpark Super</td>\n",
              "      <td>4500.0</td>\n",
              "      <td>227 000 km</td>\n",
              "      <td>manual</td>\n",
              "      <td>1 970 cm3</td>\n",
              "      <td>Benzyna</td>\n",
              "      <td>Chełmża</td>\n",
              "      <td>Kujawsko-pomorskie</td>\n",
              "      <td>1996</td>\n",
              "    </tr>\n",
              "    <tr>\n",
              "      <th>3</th>\n",
              "      <td>alfa-romeo</td>\n",
              "      <td>Alfa Romeo Spider 2.0 TSpark</td>\n",
              "      <td>17100.0</td>\n",
              "      <td>227 000 km</td>\n",
              "      <td>manual</td>\n",
              "      <td>1 970 cm3</td>\n",
              "      <td>Benzyna</td>\n",
              "      <td>Jasło</td>\n",
              "      <td>Podkarpackie</td>\n",
              "      <td>1996</td>\n",
              "    </tr>\n",
              "    <tr>\n",
              "      <th>4</th>\n",
              "      <td>alfa-romeo</td>\n",
              "      <td>Alfa Romeo 156 1.6 TSpark 16v</td>\n",
              "      <td>3900.0</td>\n",
              "      <td>239 000 km</td>\n",
              "      <td>manual</td>\n",
              "      <td>1 995 cm3</td>\n",
              "      <td>Benzyna+LPG</td>\n",
              "      <td>Pabianice</td>\n",
              "      <td>Łódzkie</td>\n",
              "      <td>1995</td>\n",
              "    </tr>\n",
              "  </tbody>\n",
              "</table>\n",
              "</div>\n",
              "      <button class=\"colab-df-convert\" onclick=\"convertToInteractive('df-d98f537b-074d-41cc-b576-6fae38a8de17')\"\n",
              "              title=\"Convert this dataframe to an interactive table.\"\n",
              "              style=\"display:none;\">\n",
              "        \n",
              "  <svg xmlns=\"http://www.w3.org/2000/svg\" height=\"24px\"viewBox=\"0 0 24 24\"\n",
              "       width=\"24px\">\n",
              "    <path d=\"M0 0h24v24H0V0z\" fill=\"none\"/>\n",
              "    <path d=\"M18.56 5.44l.94 2.06.94-2.06 2.06-.94-2.06-.94-.94-2.06-.94 2.06-2.06.94zm-11 1L8.5 8.5l.94-2.06 2.06-.94-2.06-.94L8.5 2.5l-.94 2.06-2.06.94zm10 10l.94 2.06.94-2.06 2.06-.94-2.06-.94-.94-2.06-.94 2.06-2.06.94z\"/><path d=\"M17.41 7.96l-1.37-1.37c-.4-.4-.92-.59-1.43-.59-.52 0-1.04.2-1.43.59L10.3 9.45l-7.72 7.72c-.78.78-.78 2.05 0 2.83L4 21.41c.39.39.9.59 1.41.59.51 0 1.02-.2 1.41-.59l7.78-7.78 2.81-2.81c.8-.78.8-2.07 0-2.86zM5.41 20L4 18.59l7.72-7.72 1.47 1.35L5.41 20z\"/>\n",
              "  </svg>\n",
              "      </button>\n",
              "      \n",
              "  <style>\n",
              "    .colab-df-container {\n",
              "      display:flex;\n",
              "      flex-wrap:wrap;\n",
              "      gap: 12px;\n",
              "    }\n",
              "\n",
              "    .colab-df-convert {\n",
              "      background-color: #E8F0FE;\n",
              "      border: none;\n",
              "      border-radius: 50%;\n",
              "      cursor: pointer;\n",
              "      display: none;\n",
              "      fill: #1967D2;\n",
              "      height: 32px;\n",
              "      padding: 0 0 0 0;\n",
              "      width: 32px;\n",
              "    }\n",
              "\n",
              "    .colab-df-convert:hover {\n",
              "      background-color: #E2EBFA;\n",
              "      box-shadow: 0px 1px 2px rgba(60, 64, 67, 0.3), 0px 1px 3px 1px rgba(60, 64, 67, 0.15);\n",
              "      fill: #174EA6;\n",
              "    }\n",
              "\n",
              "    [theme=dark] .colab-df-convert {\n",
              "      background-color: #3B4455;\n",
              "      fill: #D2E3FC;\n",
              "    }\n",
              "\n",
              "    [theme=dark] .colab-df-convert:hover {\n",
              "      background-color: #434B5C;\n",
              "      box-shadow: 0px 1px 3px 1px rgba(0, 0, 0, 0.15);\n",
              "      filter: drop-shadow(0px 1px 2px rgba(0, 0, 0, 0.3));\n",
              "      fill: #FFFFFF;\n",
              "    }\n",
              "  </style>\n",
              "\n",
              "      <script>\n",
              "        const buttonEl =\n",
              "          document.querySelector('#df-d98f537b-074d-41cc-b576-6fae38a8de17 button.colab-df-convert');\n",
              "        buttonEl.style.display =\n",
              "          google.colab.kernel.accessAllowed ? 'block' : 'none';\n",
              "\n",
              "        async function convertToInteractive(key) {\n",
              "          const element = document.querySelector('#df-d98f537b-074d-41cc-b576-6fae38a8de17');\n",
              "          const dataTable =\n",
              "            await google.colab.kernel.invokeFunction('convertToInteractive',\n",
              "                                                     [key], {});\n",
              "          if (!dataTable) return;\n",
              "\n",
              "          const docLinkHtml = 'Like what you see? Visit the ' +\n",
              "            '<a target=\"_blank\" href=https://colab.research.google.com/notebooks/data_table.ipynb>data table notebook</a>'\n",
              "            + ' to learn more about interactive tables.';\n",
              "          element.innerHTML = '';\n",
              "          dataTable['output_type'] = 'display_data';\n",
              "          await google.colab.output.renderOutput(dataTable, element);\n",
              "          const docLink = document.createElement('div');\n",
              "          docLink.innerHTML = docLinkHtml;\n",
              "          element.appendChild(docLink);\n",
              "        }\n",
              "      </script>\n",
              "    </div>\n",
              "  </div>\n",
              "  "
            ]
          },
          "metadata": {},
          "execution_count": 4
        }
      ],
      "source": [
        "df.head()"
      ]
    },
    {
      "cell_type": "code",
      "execution_count": null,
      "metadata": {
        "colab": {
          "base_uri": "https://localhost:8080/"
        },
        "id": "XfjpYYH9y4rk",
        "outputId": "de80c611-f820-4354-ebb2-7d304862b375"
      },
      "outputs": [
        {
          "output_type": "stream",
          "name": "stdout",
          "text": [
            "\n",
            "DataFrame após a eliminação das linhas:\n",
            "            brand                               model  price_in_pln  \\\n",
            "0      alfa-romeo     Alfa Romeo Spider 2.0-16 TSpark       14700.0   \n",
            "1      alfa-romeo       Alfa Romeo GTV 2.0 16v TSpark       14000.0   \n",
            "2      alfa-romeo     Alfa Romeo 164 2.0 TSpark Super        4500.0   \n",
            "3      alfa-romeo        Alfa Romeo Spider 2.0 TSpark       17100.0   \n",
            "4      alfa-romeo       Alfa Romeo 156 1.6 TSpark 16v        3900.0   \n",
            "...           ...                                 ...           ...   \n",
            "91518       volvo                         Volvo XC 90      379900.0   \n",
            "91519       volvo  Volvo XC 90 T6 AWD Inscription 7os      246000.0   \n",
            "91520       volvo               Volvo V60 T4 R-Design      159900.0   \n",
            "91521       volvo     Volvo XC 40 T5 AWD Momentum Pro      146000.0   \n",
            "91522       volvo          Volvo XC 40 T3 Inscription      108900.0   \n",
            "\n",
            "          mileage    gearbox engine_capacity    fuel_type  \\\n",
            "0      133 760 km     manual       1 970 cm3      Benzyna   \n",
            "1      133 760 km     manual       1 970 cm3      Benzyna   \n",
            "2      227 000 km     manual       1 970 cm3      Benzyna   \n",
            "3      227 000 km     manual       1 970 cm3      Benzyna   \n",
            "4      239 000 km     manual       1 995 cm3  Benzyna+LPG   \n",
            "...           ...        ...             ...          ...   \n",
            "91518    1 024 km  automatic       1 969 cm3      Hybryda   \n",
            "91519    1 024 km  automatic       1 969 cm3      Hybryda   \n",
            "91520    8 847 km  automatic       1 969 cm3      Benzyna   \n",
            "91521    8 847 km  automatic       1 969 cm3      Benzyna   \n",
            "91522   34 000 km  automatic       1 969 cm3      Benzyna   \n",
            "\n",
            "                      city         voivodeship  year  \n",
            "0                     Łask             Łódzkie  1998  \n",
            "1                    Mława         Mazowieckie  1998  \n",
            "2                  Chełmża  Kujawsko-pomorskie  1996  \n",
            "3                    Jasło        Podkarpackie  1996  \n",
            "4                Pabianice             Łódzkie  1995  \n",
            "...                    ...                 ...   ...  \n",
            "91518             Szczecin  Zachodniopomorskie  2022  \n",
            "91519              Siedlce         Mazowieckie  2022  \n",
            "91520            Pyrzowice             Śląskie  2020  \n",
            "91521              Żmigród        Dolnośląskie  2020  \n",
            "91522  Ostrów Wielkopolski       Wielkopolskie  2020  \n",
            "\n",
            "[91099 rows x 10 columns]\n"
          ]
        }
      ],
      "source": [
        "valor_especifico = 'km'\n",
        "df = df[~df['year'].str.contains(valor_especifico)]\n",
        "\n",
        "# Exibindo o DataFrame após a eliminação das linhas\n",
        "print(\"\\nDataFrame após a eliminação das linhas:\")\n",
        "print(df)"
      ]
    },
    {
      "cell_type": "code",
      "execution_count": null,
      "metadata": {
        "colab": {
          "base_uri": "https://localhost:8080/"
        },
        "id": "acuA3A_10Pz9",
        "outputId": "1a5fcdbf-80ff-4a42-c5c1-85dab17019fe"
      },
      "outputs": [
        {
          "output_type": "stream",
          "name": "stdout",
          "text": [
            "\n",
            "DataFrame após a eliminação das linhas:\n",
            "            brand                               model  price_in_pln  \\\n",
            "0      alfa-romeo     Alfa Romeo Spider 2.0-16 TSpark       14700.0   \n",
            "1      alfa-romeo       Alfa Romeo GTV 2.0 16v TSpark       14000.0   \n",
            "2      alfa-romeo     Alfa Romeo 164 2.0 TSpark Super        4500.0   \n",
            "3      alfa-romeo        Alfa Romeo Spider 2.0 TSpark       17100.0   \n",
            "4      alfa-romeo       Alfa Romeo 156 1.6 TSpark 16v        3900.0   \n",
            "...           ...                                 ...           ...   \n",
            "91518       volvo                         Volvo XC 90      379900.0   \n",
            "91519       volvo  Volvo XC 90 T6 AWD Inscription 7os      246000.0   \n",
            "91520       volvo               Volvo V60 T4 R-Design      159900.0   \n",
            "91521       volvo     Volvo XC 40 T5 AWD Momentum Pro      146000.0   \n",
            "91522       volvo          Volvo XC 40 T3 Inscription      108900.0   \n",
            "\n",
            "          mileage    gearbox engine_capacity    fuel_type  \\\n",
            "0      133 760 km     manual       1 970 cm3      Benzyna   \n",
            "1      133 760 km     manual       1 970 cm3      Benzyna   \n",
            "2      227 000 km     manual       1 970 cm3      Benzyna   \n",
            "3      227 000 km     manual       1 970 cm3      Benzyna   \n",
            "4      239 000 km     manual       1 995 cm3  Benzyna+LPG   \n",
            "...           ...        ...             ...          ...   \n",
            "91518    1 024 km  automatic       1 969 cm3      Hybryda   \n",
            "91519    1 024 km  automatic       1 969 cm3      Hybryda   \n",
            "91520    8 847 km  automatic       1 969 cm3      Benzyna   \n",
            "91521    8 847 km  automatic       1 969 cm3      Benzyna   \n",
            "91522   34 000 km  automatic       1 969 cm3      Benzyna   \n",
            "\n",
            "                      city         voivodeship  year  \n",
            "0                     Łask             Łódzkie  1998  \n",
            "1                    Mława         Mazowieckie  1998  \n",
            "2                  Chełmża  Kujawsko-pomorskie  1996  \n",
            "3                    Jasło        Podkarpackie  1996  \n",
            "4                Pabianice             Łódzkie  1995  \n",
            "...                    ...                 ...   ...  \n",
            "91518             Szczecin  Zachodniopomorskie  2022  \n",
            "91519              Siedlce         Mazowieckie  2022  \n",
            "91520            Pyrzowice             Śląskie  2020  \n",
            "91521              Żmigród        Dolnośląskie  2020  \n",
            "91522  Ostrów Wielkopolski       Wielkopolskie  2020  \n",
            "\n",
            "[86583 rows x 10 columns]\n"
          ]
        }
      ],
      "source": [
        "valor_especifico = 'cm'\n",
        "df = df[~df['year'].str.contains(valor_especifico)]\n",
        "\n",
        "# Exibindo o DataFrame após a eliminação das linhas\n",
        "print(\"\\nDataFrame após a eliminação das linhas:\")\n",
        "print(df)"
      ]
    },
    {
      "cell_type": "code",
      "execution_count": null,
      "metadata": {
        "colab": {
          "base_uri": "https://localhost:8080/"
        },
        "id": "nAAVE48A0bcc",
        "outputId": "fadac9ec-67b1-4434-9144-db0f5f4294f2"
      },
      "outputs": [
        {
          "output_type": "stream",
          "name": "stdout",
          "text": [
            "\n",
            "DataFrame após a eliminação das linhas:\n",
            "            brand                               model  price_in_pln  \\\n",
            "0      alfa-romeo     Alfa Romeo Spider 2.0-16 TSpark       14700.0   \n",
            "1      alfa-romeo       Alfa Romeo GTV 2.0 16v TSpark       14000.0   \n",
            "2      alfa-romeo     Alfa Romeo 164 2.0 TSpark Super        4500.0   \n",
            "3      alfa-romeo        Alfa Romeo Spider 2.0 TSpark       17100.0   \n",
            "4      alfa-romeo       Alfa Romeo 156 1.6 TSpark 16v        3900.0   \n",
            "...           ...                                 ...           ...   \n",
            "91518       volvo                         Volvo XC 90      379900.0   \n",
            "91519       volvo  Volvo XC 90 T6 AWD Inscription 7os      246000.0   \n",
            "91520       volvo               Volvo V60 T4 R-Design      159900.0   \n",
            "91521       volvo     Volvo XC 40 T5 AWD Momentum Pro      146000.0   \n",
            "91522       volvo          Volvo XC 40 T3 Inscription      108900.0   \n",
            "\n",
            "          mileage    gearbox engine_capacity    fuel_type  \\\n",
            "0      133 760 km     manual       1 970 cm3      Benzyna   \n",
            "1      133 760 km     manual       1 970 cm3      Benzyna   \n",
            "2      227 000 km     manual       1 970 cm3      Benzyna   \n",
            "3      227 000 km     manual       1 970 cm3      Benzyna   \n",
            "4      239 000 km     manual       1 995 cm3  Benzyna+LPG   \n",
            "...           ...        ...             ...          ...   \n",
            "91518    1 024 km  automatic       1 969 cm3      Hybryda   \n",
            "91519    1 024 km  automatic       1 969 cm3      Hybryda   \n",
            "91520    8 847 km  automatic       1 969 cm3      Benzyna   \n",
            "91521    8 847 km  automatic       1 969 cm3      Benzyna   \n",
            "91522   34 000 km  automatic       1 969 cm3      Benzyna   \n",
            "\n",
            "                      city         voivodeship  year  \n",
            "0                     Łask             Łódzkie  1998  \n",
            "1                    Mława         Mazowieckie  1998  \n",
            "2                  Chełmża  Kujawsko-pomorskie  1996  \n",
            "3                    Jasło        Podkarpackie  1996  \n",
            "4                Pabianice             Łódzkie  1995  \n",
            "...                    ...                 ...   ...  \n",
            "91518             Szczecin  Zachodniopomorskie  2022  \n",
            "91519              Siedlce         Mazowieckie  2022  \n",
            "91520            Pyrzowice             Śląskie  2020  \n",
            "91521              Żmigród        Dolnośląskie  2020  \n",
            "91522  Ostrów Wielkopolski       Wielkopolskie  2020  \n",
            "\n",
            "[86361 rows x 10 columns]\n"
          ]
        }
      ],
      "source": [
        "valor_especifico = 'Elektryczny'\n",
        "df = df[~df['year'].str.contains(valor_especifico)]\n",
        "\n",
        "# Exibindo o DataFrame após a eliminação das linhas\n",
        "print(\"\\nDataFrame após a eliminação das linhas:\")\n",
        "print(df)"
      ]
    },
    {
      "cell_type": "code",
      "execution_count": null,
      "metadata": {
        "colab": {
          "base_uri": "https://localhost:8080/"
        },
        "id": "cWF4yGAL0nJW",
        "outputId": "ffb7036c-cd8f-49df-ef5d-56ab2ac49b7f"
      },
      "outputs": [
        {
          "output_type": "stream",
          "name": "stdout",
          "text": [
            "\n",
            "DataFrame após a eliminação das linhas:\n",
            "            brand                               model  price_in_pln  \\\n",
            "0      alfa-romeo     Alfa Romeo Spider 2.0-16 TSpark       14700.0   \n",
            "1      alfa-romeo       Alfa Romeo GTV 2.0 16v TSpark       14000.0   \n",
            "2      alfa-romeo     Alfa Romeo 164 2.0 TSpark Super        4500.0   \n",
            "3      alfa-romeo        Alfa Romeo Spider 2.0 TSpark       17100.0   \n",
            "4      alfa-romeo       Alfa Romeo 156 1.6 TSpark 16v        3900.0   \n",
            "...           ...                                 ...           ...   \n",
            "91518       volvo                         Volvo XC 90      379900.0   \n",
            "91519       volvo  Volvo XC 90 T6 AWD Inscription 7os      246000.0   \n",
            "91520       volvo               Volvo V60 T4 R-Design      159900.0   \n",
            "91521       volvo     Volvo XC 40 T5 AWD Momentum Pro      146000.0   \n",
            "91522       volvo          Volvo XC 40 T3 Inscription      108900.0   \n",
            "\n",
            "          mileage    gearbox engine_capacity    fuel_type  \\\n",
            "0      133 760 km     manual       1 970 cm3      Benzyna   \n",
            "1      133 760 km     manual       1 970 cm3      Benzyna   \n",
            "2      227 000 km     manual       1 970 cm3      Benzyna   \n",
            "3      227 000 km     manual       1 970 cm3      Benzyna   \n",
            "4      239 000 km     manual       1 995 cm3  Benzyna+LPG   \n",
            "...           ...        ...             ...          ...   \n",
            "91518    1 024 km  automatic       1 969 cm3      Hybryda   \n",
            "91519    1 024 km  automatic       1 969 cm3      Hybryda   \n",
            "91520    8 847 km  automatic       1 969 cm3      Benzyna   \n",
            "91521    8 847 km  automatic       1 969 cm3      Benzyna   \n",
            "91522   34 000 km  automatic       1 969 cm3      Benzyna   \n",
            "\n",
            "                      city         voivodeship  year  \n",
            "0                     Łask             Łódzkie  1998  \n",
            "1                    Mława         Mazowieckie  1998  \n",
            "2                  Chełmża  Kujawsko-pomorskie  1996  \n",
            "3                    Jasło        Podkarpackie  1996  \n",
            "4                Pabianice             Łódzkie  1995  \n",
            "...                    ...                 ...   ...  \n",
            "91518             Szczecin  Zachodniopomorskie  2022  \n",
            "91519              Siedlce         Mazowieckie  2022  \n",
            "91520            Pyrzowice             Śląskie  2020  \n",
            "91521              Żmigród        Dolnośląskie  2020  \n",
            "91522  Ostrów Wielkopolski       Wielkopolskie  2020  \n",
            "\n",
            "[86302 rows x 10 columns]\n"
          ]
        }
      ],
      "source": [
        "valor_especifico = 'Benzyna'\n",
        "df = df[~df['year'].str.contains(valor_especifico)]\n",
        "\n",
        "# Exibindo o DataFrame após a eliminação das linhas\n",
        "print(\"\\nDataFrame após a eliminação das linhas:\")\n",
        "print(df)"
      ]
    },
    {
      "cell_type": "code",
      "execution_count": null,
      "metadata": {
        "colab": {
          "base_uri": "https://localhost:8080/"
        },
        "id": "B1zLGJAk0stF",
        "outputId": "1b3c7559-e2ac-4c65-9307-8dc08fd5ffe0"
      },
      "outputs": [
        {
          "output_type": "stream",
          "name": "stdout",
          "text": [
            "\n",
            "DataFrame após a eliminação das linhas:\n",
            "            brand                               model  price_in_pln  \\\n",
            "0      alfa-romeo     Alfa Romeo Spider 2.0-16 TSpark       14700.0   \n",
            "1      alfa-romeo       Alfa Romeo GTV 2.0 16v TSpark       14000.0   \n",
            "2      alfa-romeo     Alfa Romeo 164 2.0 TSpark Super        4500.0   \n",
            "3      alfa-romeo        Alfa Romeo Spider 2.0 TSpark       17100.0   \n",
            "4      alfa-romeo       Alfa Romeo 156 1.6 TSpark 16v        3900.0   \n",
            "...           ...                                 ...           ...   \n",
            "91518       volvo                         Volvo XC 90      379900.0   \n",
            "91519       volvo  Volvo XC 90 T6 AWD Inscription 7os      246000.0   \n",
            "91520       volvo               Volvo V60 T4 R-Design      159900.0   \n",
            "91521       volvo     Volvo XC 40 T5 AWD Momentum Pro      146000.0   \n",
            "91522       volvo          Volvo XC 40 T3 Inscription      108900.0   \n",
            "\n",
            "          mileage    gearbox engine_capacity    fuel_type  \\\n",
            "0      133 760 km     manual       1 970 cm3      Benzyna   \n",
            "1      133 760 km     manual       1 970 cm3      Benzyna   \n",
            "2      227 000 km     manual       1 970 cm3      Benzyna   \n",
            "3      227 000 km     manual       1 970 cm3      Benzyna   \n",
            "4      239 000 km     manual       1 995 cm3  Benzyna+LPG   \n",
            "...           ...        ...             ...          ...   \n",
            "91518    1 024 km  automatic       1 969 cm3      Hybryda   \n",
            "91519    1 024 km  automatic       1 969 cm3      Hybryda   \n",
            "91520    8 847 km  automatic       1 969 cm3      Benzyna   \n",
            "91521    8 847 km  automatic       1 969 cm3      Benzyna   \n",
            "91522   34 000 km  automatic       1 969 cm3      Benzyna   \n",
            "\n",
            "                      city         voivodeship  year  \n",
            "0                     Łask             Łódzkie  1998  \n",
            "1                    Mława         Mazowieckie  1998  \n",
            "2                  Chełmża  Kujawsko-pomorskie  1996  \n",
            "3                    Jasło        Podkarpackie  1996  \n",
            "4                Pabianice             Łódzkie  1995  \n",
            "...                    ...                 ...   ...  \n",
            "91518             Szczecin  Zachodniopomorskie  2022  \n",
            "91519              Siedlce         Mazowieckie  2022  \n",
            "91520            Pyrzowice             Śląskie  2020  \n",
            "91521              Żmigród        Dolnośląskie  2020  \n",
            "91522  Ostrów Wielkopolski       Wielkopolskie  2020  \n",
            "\n",
            "[86281 rows x 10 columns]\n"
          ]
        }
      ],
      "source": [
        "valor_especifico = 'Diesel'\n",
        "df = df[~df['year'].str.contains(valor_especifico)]\n",
        "\n",
        "# Exibindo o DataFrame após a eliminação das linhas\n",
        "print(\"\\nDataFrame após a eliminação das linhas:\")\n",
        "print(df)"
      ]
    },
    {
      "cell_type": "code",
      "execution_count": null,
      "metadata": {
        "colab": {
          "base_uri": "https://localhost:8080/"
        },
        "id": "leAp9G7F0xZr",
        "outputId": "64d265de-41a4-4cbd-d7c1-68ebba7e791e"
      },
      "outputs": [
        {
          "output_type": "stream",
          "name": "stdout",
          "text": [
            "\n",
            "DataFrame após a eliminação das linhas:\n",
            "            brand                               model  price_in_pln  \\\n",
            "0      alfa-romeo     Alfa Romeo Spider 2.0-16 TSpark       14700.0   \n",
            "1      alfa-romeo       Alfa Romeo GTV 2.0 16v TSpark       14000.0   \n",
            "2      alfa-romeo     Alfa Romeo 164 2.0 TSpark Super        4500.0   \n",
            "3      alfa-romeo        Alfa Romeo Spider 2.0 TSpark       17100.0   \n",
            "4      alfa-romeo       Alfa Romeo 156 1.6 TSpark 16v        3900.0   \n",
            "...           ...                                 ...           ...   \n",
            "91518       volvo                         Volvo XC 90      379900.0   \n",
            "91519       volvo  Volvo XC 90 T6 AWD Inscription 7os      246000.0   \n",
            "91520       volvo               Volvo V60 T4 R-Design      159900.0   \n",
            "91521       volvo     Volvo XC 40 T5 AWD Momentum Pro      146000.0   \n",
            "91522       volvo          Volvo XC 40 T3 Inscription      108900.0   \n",
            "\n",
            "          mileage    gearbox engine_capacity    fuel_type  \\\n",
            "0      133 760 km     manual       1 970 cm3      Benzyna   \n",
            "1      133 760 km     manual       1 970 cm3      Benzyna   \n",
            "2      227 000 km     manual       1 970 cm3      Benzyna   \n",
            "3      227 000 km     manual       1 970 cm3      Benzyna   \n",
            "4      239 000 km     manual       1 995 cm3  Benzyna+LPG   \n",
            "...           ...        ...             ...          ...   \n",
            "91518    1 024 km  automatic       1 969 cm3      Hybryda   \n",
            "91519    1 024 km  automatic       1 969 cm3      Hybryda   \n",
            "91520    8 847 km  automatic       1 969 cm3      Benzyna   \n",
            "91521    8 847 km  automatic       1 969 cm3      Benzyna   \n",
            "91522   34 000 km  automatic       1 969 cm3      Benzyna   \n",
            "\n",
            "                      city         voivodeship  year  \n",
            "0                     Łask             Łódzkie  1998  \n",
            "1                    Mława         Mazowieckie  1998  \n",
            "2                  Chełmża  Kujawsko-pomorskie  1996  \n",
            "3                    Jasło        Podkarpackie  1996  \n",
            "4                Pabianice             Łódzkie  1995  \n",
            "...                    ...                 ...   ...  \n",
            "91518             Szczecin  Zachodniopomorskie  2022  \n",
            "91519              Siedlce         Mazowieckie  2022  \n",
            "91520            Pyrzowice             Śląskie  2020  \n",
            "91521              Żmigród        Dolnośląskie  2020  \n",
            "91522  Ostrów Wielkopolski       Wielkopolskie  2020  \n",
            "\n",
            "[86274 rows x 10 columns]\n"
          ]
        }
      ],
      "source": [
        "valor_especifico = 'Hybryda'\n",
        "df = df[~df['year'].str.contains(valor_especifico)]\n",
        "\n",
        "# Exibindo o DataFrame após a eliminação das linhas\n",
        "print(\"\\nDataFrame após a eliminação das linhas:\")\n",
        "print(df)"
      ]
    },
    {
      "cell_type": "code",
      "execution_count": null,
      "metadata": {
        "colab": {
          "base_uri": "https://localhost:8080/"
        },
        "id": "V2_m0A-2Tl4i",
        "outputId": "0c65e70e-f9f0-49f8-a3b2-a6373fc2c71f"
      },
      "outputs": [
        {
          "output_type": "stream",
          "name": "stdout",
          "text": [
            "['1998' '1996' '1995' '2004' '2003' '2000' '2002' '2001' '2008' '2006'\n",
            " '2009' '2007' '2015' '2016' '2017' '2018' '2014' '2012' '2010' '2013'\n",
            " '2011' '2022' '2005' '2019' '2020' '2021' '2023' '1999' '1997']\n",
            "2018    6192\n",
            "2017    5900\n",
            "2019    5821\n",
            "2016    5025\n",
            "2023    4759\n",
            "2015    4611\n",
            "2011    4599\n",
            "2014    4465\n",
            "2012    4342\n",
            "2010    4131\n",
            "2013    4048\n",
            "2022    4006\n",
            "2020    3170\n",
            "2021    2925\n",
            "2008    2858\n",
            "2009    2827\n",
            "2007    2648\n",
            "2004    2280\n",
            "2006    2094\n",
            "2005    1631\n",
            "2003    1565\n",
            "1999    1432\n",
            "1998    1121\n",
            "2002     893\n",
            "1997     709\n",
            "2001     633\n",
            "1996     562\n",
            "2000     550\n",
            "1995     477\n",
            "Name: year, dtype: int64\n"
          ]
        }
      ],
      "source": [
        "opcoes_unicas = df['year'].unique()\n",
        "print(opcoes_unicas)\n",
        "\n",
        "contagem_opcoes = df['year'].value_counts()\n",
        "print(contagem_opcoes)"
      ]
    },
    {
      "cell_type": "code",
      "execution_count": null,
      "metadata": {
        "id": "fxOpp5Wq1Bxe"
      },
      "outputs": [],
      "source": [
        "df['year'] = df['year'].astype(float)"
      ]
    },
    {
      "cell_type": "code",
      "execution_count": null,
      "metadata": {
        "id": "VFIc6xE2oGP0"
      },
      "outputs": [],
      "source": [
        "#df = df.drop('year', axis=1)"
      ]
    },
    {
      "cell_type": "code",
      "execution_count": null,
      "metadata": {
        "colab": {
          "base_uri": "https://localhost:8080/"
        },
        "id": "UEJ1OYWco3qu",
        "outputId": "88d3d0ca-ab2c-4902-e6de-a5eb1e562fc8"
      },
      "outputs": [
        {
          "output_type": "stream",
          "name": "stdout",
          "text": [
            "['1 970 cm3' '1 995 cm3' '1 598 cm3' '1 910 cm3' '2 492 cm3' '2 387 cm3'\n",
            " '1 368 cm3' '1 742 cm3' '1 956 cm3' '1 858 cm3' '2 143 cm3' '1 248 cm3'\n",
            " '1 900 cm3' '2 959 cm3' '3 195 cm3' '2 198 cm3' '2 891 cm3' '1 469 cm3'\n",
            " '6 000 cm3' '4 300 cm3' '4 735 cm3' '5 935 cm3' '1 896 cm3' '1 595 cm3'\n",
            " '1 781 cm3' '1 892 cm3' '1 984 cm3' '2 400 cm3' '2 461 cm3' '2 771 cm3'\n",
            " '1 798 cm3' '2 498 cm3' '2 671 cm3' '2 496 cm3' '1 600 cm3' '2 598 cm3'\n",
            " '1 968 cm3' '1 498 cm3' '2 967 cm3' '999 cm3' '1 422 cm3' '4 172 cm3'\n",
            " '2 393 cm3' '2 800 cm3' '3 699 cm3' '1 800 cm3' '3 123 cm3' '3 197 cm3'\n",
            " '2 698 cm3' '4 163 cm3' '3 936 cm3' '5 998 cm3' '2 976 cm3' '2 995 cm3'\n",
            " '2 000 cm3' '4 134 cm3' '3 956 cm3' '1 400 cm3' '3 993 cm3' '2 480 cm3'\n",
            " 'Elektryczny' '1 395 cm3' '3 996 cm3' 'Benzyna' '4 398 cm3' '6 752 cm3'\n",
            " '5 950 cm3' '2 494 cm3' '2 793 cm3' '1 991 cm3' '1 895 cm3' '2 990 cm3'\n",
            " '1 990 cm3' '1 796 cm3' '2 497 cm3' '1 596 cm3' '2 996 cm3' '1 599 cm3'\n",
            " '1 499 cm3' '1 997 cm3' '2 993 cm3' '1 496 cm3' '1 998 cm3' '3 600 cm3'\n",
            " '4 619 cm3' '2 979 cm3' '2 926 cm3' '2 171 cm3' '5 972 cm3' '3 246 cm3'\n",
            " '2 986 cm3' '3 901 cm3' '3 498 cm3' '1 951 cm3' '2 490 cm3' '4 799 cm3'\n",
            " '4 395 cm3' '3 999 cm3' '1 999 cm3' '1 589 cm3' '2 997 cm3' '4 400 cm3'\n",
            " '3 000 cm3' '2 998 cm3' '647 cm3' '6 592 cm3' '1 500 cm3' '6 600 cm3'\n",
            " '1 495 cm3' 'Diesel' '2 992 cm3' '3 564 cm3' '5 967 cm3' '4 572 cm3'\n",
            " '2 500 cm3' '4 565 cm3' '6 199 cm3' '6 162 cm3' '2 792 cm3' '6 200 cm3'\n",
            " '5 666 cm3' '2 196 cm3' '995 cm3' '1 399 cm3' '2 405 cm3' '1 993 cm3'\n",
            " '796 cm3' '2 384 cm3' '1 364 cm3' '2 231 cm3' '1 686 cm3' '1 229 cm3'\n",
            " '1 206 cm3' '5 328 cm3' '5 733 cm3' '4 161 cm3' '2 399 cm3' '4 792 cm3'\n",
            " '3 880 cm3' '5 300 cm3' '1 398 cm3' '3 640 cm3' '6 126 cm3' '1 587 cm3'\n",
            " '1 360 cm3' '1 580 cm3' '1 905 cm3' '1 761 cm3' '1 124 cm3' '1 749 cm3'\n",
            " '1 560 cm3' '2 720 cm3' '954 cm3' '1 868 cm3' '2 179 cm3' '2 999 cm3'\n",
            " '1 397 cm3' '1 199 cm3' '998 cm3' '1 590 cm3' '1 585 cm3' '1 198 cm3'\n",
            " '2 946 cm3' '1 390 cm3' '1 149 cm3' '898 cm3' '1 461 cm3' '1 333 cm3'\n",
            " '1 197 cm3' '1 332 cm3' '1 000 cm3' 'Benzyna+LPG' '1 349 cm3' '1 296 cm3'\n",
            " '847 cm3' '1 298 cm3' '989 cm3' '2 464 cm3' '2 972 cm3' '5 654 cm3'\n",
            " '2 776 cm3' '8 300 cm3' '4 701 cm3' '2 360 cm3' '3 701 cm3' '1 369 cm3'\n",
            " '6 417 cm3' '5 208 cm3' '5 895 cm3' '8 000 cm3' '5 896 cm3' '3 605 cm3'\n",
            " '3 604 cm3' '6 166 cm3' '5 700 cm3' '3 952 cm3' '6 400 cm3' '5 748 cm3'\n",
            " '4 308 cm3' '3 900 cm3' '3 902 cm3' '6 262 cm3' '4 499 cm3' '4 000 cm3'\n",
            " '6 496 cm3' '3 885 cm3' '1 747 cm3' '652 cm3' '1 242 cm3' '704 cm3'\n",
            " '899 cm3' '1 108 cm3' '1 586 cm3' '2 300 cm3' '875 cm3' '2 287 cm3'\n",
            " '2 442 cm3' '1 988 cm3' '1 299 cm3' '1 388 cm3' '1 597 cm3' '1 753 cm3'\n",
            " '2 544 cm3' '1 391 cm3' '2022' '2 664 cm3' '4 601 cm3' '1 989 cm3'\n",
            " '1 297 cm3' '2 495 cm3' '2 499 cm3' '2 521 cm3' '4 606 cm3' '3 726 cm3'\n",
            " '4 951 cm3' '2 200 cm3' '3 198 cm3' '1 252 cm3' '1 200 cm3' '5 038 cm3'\n",
            " '2 402 cm3' '2 261 cm3' '1 996 cm3' '1 196 cm3' '1 084 cm3' '3 196 cm3'\n",
            " '5 163 cm3' '5 000 cm3' '1 986 cm3' '5 200 cm3' '3 700 cm3' '3 797 cm3'\n",
            " '5 403 cm3' '4 011 cm3' '2 295 cm3' '3 958 cm3' '5 409 cm3' '2 966 cm3'\n",
            " '4 015 cm3' '5 400 cm3' '2 953 cm3' '4 600 cm3' '2 488 cm3' '1 396 cm3'\n",
            " '1 850 cm3' '2 157 cm3' '1 973 cm3' '1 797 cm3' '1 246 cm3' '1 339 cm3'\n",
            " '1 799 cm3' '2 199 cm3' '1 668 cm3' '2 204 cm3' '2 354 cm3' '1 300 cm3'\n",
            " '1 497 cm3' '1 318 cm3' '988 cm3' '3 474 cm3' '2 156 cm3' '3 471 cm3'\n",
            " '2 477 cm3' '2 476 cm3' '1 582 cm3' '2 188 cm3' '1 975 cm3' '1 591 cm3'\n",
            " '2 656 cm3' '1 086 cm3' '1 685 cm3' '1 120 cm3' '1 700 cm3' '2 359 cm3'\n",
            " '1 353 cm3' '1 699 cm3' '1 100 cm3' '1 482 cm3' '997 cm3' '2 648 cm3'\n",
            " '3 497 cm3' '2 902 cm3' '3 342 cm3' '1 795 cm3' '3 788 cm3' '5 026 cm3'\n",
            " '3 696 cm3' '4 494 cm3' '5 600 cm3' '1 898 cm3' '3 200 cm3' '2 099 cm3'\n",
            " '4 196 cm3' '3 964 cm3' '3 946 cm3' '3 778 cm3' '5 210 cm3' '5 900 cm3'\n",
            " '3 960 cm3' '2 685 cm3' '3 125 cm3' '2 777 cm3' '4 700 cm3' '2 987 cm3'\n",
            " '3 239 cm3' '1 994 cm3' '2 184 cm3' '2023' 'Hybryda' '2 351 cm3'\n",
            " '1 594 cm3' '1 793 cm3' '1 561 cm3' '1 249 cm3' '2 358 cm3' '6 193 cm3'\n",
            " '4 961 cm3' '6 498 cm3' '5 204 cm3' '1 581 cm3' '1 950 cm3' '4 553 cm3'\n",
            " '3 950 cm3' '4 367 cm3' '3 628 cm3' '4 999 cm3' '3 217 cm3' '4 244 cm3'\n",
            " '4 691 cm3' '2 879 cm3' '1 840 cm3' '1 308 cm3' '1 845 cm3' '2 191 cm3'\n",
            " '1 490 cm3' '1 759 cm3' '2 968 cm3' '2 597 cm3' '2 148 cm3' '1 689 cm3'\n",
            " '2 874 cm3' '2 799 cm3' '2 151 cm3' '2 292 cm3' '2 190 cm3' '1 750 cm3'\n",
            " '4 966 cm3' '4 973 cm3' '3 199 cm3' '5 987 cm3' '1 987 cm3' '4 266 cm3'\n",
            " '2 395 cm3' '3 222 cm3' '5 439 cm3' '3 724 cm3' '2 695 cm3' '5 786 cm3'\n",
            " '2 688 cm3' '5 461 cm3' '3 997 cm3' '4 663 cm3' '5 980 cm3' '6 208 cm3'\n",
            " '5 513 cm3' '6 209 cm3' '5 462 cm3' '2 034 cm3' '4 664 cm3' '4 249 cm3'\n",
            " '5 500 cm3' '5 457 cm3' '3 982 cm3' '2 925 cm3' '2 298 cm3' '3 500 cm3'\n",
            " '6 233 cm3' '400 cm3' '2 989 cm3' '1 992 cm3' '2021' '1 465 cm3'\n",
            " '1 870 cm3' '1 834 cm3' '1 584 cm3' '2 378 cm3' '1 493 cm3' '1 193 cm3'\n",
            " '2 268 cm3' '2 835 cm3' '3 828 cm3' '2 386 cm3' '2 826 cm3' '1 392 cm3'\n",
            " '1 974 cm3' '3 275 cm3' '1 328 cm3' '1 240 cm3' '1 769 cm3' '1 348 cm3'\n",
            " '1 386 cm3' '996 cm3' '1 618 cm3' '900 cm3' '2 299 cm3' '3 954 cm3'\n",
            " '2 988 cm3' '1 389 cm3' '973 cm3' '1 195 cm3' '2 958 cm3' '2 172 cm3'\n",
            " '2 463 cm3' '3 175 cm3' '3 165 cm3' '1 362 cm3' '1 958 cm3' '1 698 cm3'\n",
            " '1 382 cm3' '1 342 cm3' '1 361 cm3' '2 963 cm3' '2 445 cm3' '2 230 cm3'\n",
            " '50 cm3' '3 387 cm3' '3 179 cm3' '3 596 cm3' '3 189 cm3' '2 687 cm3'\n",
            " '3 824 cm3' '4 806 cm3' '3 800 cm3' '3 614 cm3' '3 436 cm3' '3 598 cm3'\n",
            " '2 893 cm3' '2 706 cm3' '3 995 cm3' '3 386 cm3' '4 511 cm3' '2 894 cm3'\n",
            " '2 981 cm3' '1 783 cm3' '1 983 cm3' '1 450 cm3' '1 460 cm3' '1 480 cm3'\n",
            " '2 435 cm3' '1 588 cm3' '2 290 cm3' '1 985 cm3' '2 962 cm3' '1 716 cm3'\n",
            " '2 324 cm3' '1 569 cm3' '1 289 cm3' '3 597 cm3' '599 cm3' '698 cm3'\n",
            " '799 cm3' '598 cm3' '800 cm3' '1 794 cm3' '2 982 cm3' '1 329 cm3'\n",
            " '2 755 cm3' '4 461 cm3' '3 378 cm3' '3 400 cm3' '4 477 cm3' '3 456 cm3'\n",
            " '4 164 cm3' '2 362 cm3' '5 663 cm3' '3 546 cm3' '2 487 cm3' '5 689 cm3'\n",
            " '2 478 cm3' '4 608 cm3' 'Wodór' '1 978 cm3' '2 370 cm3' '2 366 cm3'\n",
            " '2 459 cm3' '2 460 cm3' '1 962 cm3' '1 897 cm3' '990 cm3' '4 921 cm3'\n",
            " '3 184 cm3' '3 168 cm3' '1 981 cm3' '2020' '204 cm3' '1 948 cm3'\n",
            " '2 401 cm3' '1 969 cm3' '1 477 cm3' '2 922 cm3' '2 319 cm3' '2 473 cm3'\n",
            " '2 783 cm3' '2 475 cm3' '4 414 cm3' '3 192 cm3' '2 520 cm3' '1 277 cm3'\n",
            " '1 cm3']\n",
            "1 598 cm3    6954\n",
            "1 968 cm3    3988\n",
            "1 997 cm3    3771\n",
            "1 995 cm3    3592\n",
            "1 998 cm3    3215\n",
            "             ... \n",
            "1 594 cm3       2\n",
            "8 000 cm3       2\n",
            "Wodór           1\n",
            "1 581 cm3       1\n",
            "847 cm3         1\n",
            "Name: engine_capacity, Length: 529, dtype: int64\n"
          ]
        }
      ],
      "source": [
        "opcoes_unicas = df['engine_capacity'].unique()\n",
        "print(opcoes_unicas)\n",
        "\n",
        "contagem_opcoes = df['engine_capacity'].value_counts()\n",
        "print(contagem_opcoes)"
      ]
    },
    {
      "cell_type": "code",
      "execution_count": null,
      "metadata": {
        "id": "jQc3Y277XYsg"
      },
      "outputs": [],
      "source": [
        "valor_especifico = 'cm3'\n",
        "df = df[df['engine_capacity'].str.contains(valor_especifico)]"
      ]
    },
    {
      "cell_type": "code",
      "execution_count": null,
      "metadata": {
        "colab": {
          "base_uri": "https://localhost:8080/"
        },
        "id": "WS6XKICnYFRg",
        "outputId": "a363f6bf-4fc6-43d1-811e-d72f93fc881c"
      },
      "outputs": [
        {
          "output_type": "stream",
          "name": "stdout",
          "text": [
            "\n",
            "DataFrame com 'cm3' removido:\n",
            "            brand                               model  price_in_pln  \\\n",
            "0      alfa-romeo     Alfa Romeo Spider 2.0-16 TSpark       14700.0   \n",
            "1      alfa-romeo       Alfa Romeo GTV 2.0 16v TSpark       14000.0   \n",
            "2      alfa-romeo     Alfa Romeo 164 2.0 TSpark Super        4500.0   \n",
            "3      alfa-romeo        Alfa Romeo Spider 2.0 TSpark       17100.0   \n",
            "4      alfa-romeo       Alfa Romeo 156 1.6 TSpark 16v        3900.0   \n",
            "...           ...                                 ...           ...   \n",
            "91518       volvo                         Volvo XC 90      379900.0   \n",
            "91519       volvo  Volvo XC 90 T6 AWD Inscription 7os      246000.0   \n",
            "91520       volvo               Volvo V60 T4 R-Design      159900.0   \n",
            "91521       volvo     Volvo XC 40 T5 AWD Momentum Pro      146000.0   \n",
            "91522       volvo          Volvo XC 40 T3 Inscription      108900.0   \n",
            "\n",
            "          mileage    gearbox engine_capacity    fuel_type  \\\n",
            "0      133 760 km     manual           1 970      Benzyna   \n",
            "1      133 760 km     manual           1 970      Benzyna   \n",
            "2      227 000 km     manual           1 970      Benzyna   \n",
            "3      227 000 km     manual           1 970      Benzyna   \n",
            "4      239 000 km     manual           1 995  Benzyna+LPG   \n",
            "...           ...        ...             ...          ...   \n",
            "91518    1 024 km  automatic           1 969      Hybryda   \n",
            "91519    1 024 km  automatic           1 969      Hybryda   \n",
            "91520    8 847 km  automatic           1 969      Benzyna   \n",
            "91521    8 847 km  automatic           1 969      Benzyna   \n",
            "91522   34 000 km  automatic           1 969      Benzyna   \n",
            "\n",
            "                      city         voivodeship    year  \n",
            "0                     Łask             Łódzkie  1998.0  \n",
            "1                    Mława         Mazowieckie  1998.0  \n",
            "2                  Chełmża  Kujawsko-pomorskie  1996.0  \n",
            "3                    Jasło        Podkarpackie  1996.0  \n",
            "4                Pabianice             Łódzkie  1995.0  \n",
            "...                    ...                 ...     ...  \n",
            "91518             Szczecin  Zachodniopomorskie  2022.0  \n",
            "91519              Siedlce         Mazowieckie  2022.0  \n",
            "91520            Pyrzowice             Śląskie  2020.0  \n",
            "91521              Żmigród        Dolnośląskie  2020.0  \n",
            "91522  Ostrów Wielkopolski       Wielkopolskie  2020.0  \n",
            "\n",
            "[85677 rows x 10 columns]\n"
          ]
        }
      ],
      "source": [
        "df['engine_capacity'] = df['engine_capacity'].str.replace(' cm3', '')\n",
        "\n",
        "# Exibindo o DataFrame com \"cm3\" removido\n",
        "print(\"\\nDataFrame com 'cm3' removido:\")\n",
        "print(df)"
      ]
    },
    {
      "cell_type": "code",
      "execution_count": null,
      "metadata": {
        "colab": {
          "base_uri": "https://localhost:8080/"
        },
        "id": "LaWwMTirY5dz",
        "outputId": "d9fdf8b7-ced5-433f-c3de-ca3ccebdb151"
      },
      "outputs": [
        {
          "output_type": "stream",
          "name": "stdout",
          "text": [
            "\n",
            "DataFrame com ' ' removido:\n",
            "            brand                               model  price_in_pln  \\\n",
            "0      alfa-romeo     Alfa Romeo Spider 2.0-16 TSpark       14700.0   \n",
            "1      alfa-romeo       Alfa Romeo GTV 2.0 16v TSpark       14000.0   \n",
            "2      alfa-romeo     Alfa Romeo 164 2.0 TSpark Super        4500.0   \n",
            "3      alfa-romeo        Alfa Romeo Spider 2.0 TSpark       17100.0   \n",
            "4      alfa-romeo       Alfa Romeo 156 1.6 TSpark 16v        3900.0   \n",
            "...           ...                                 ...           ...   \n",
            "91518       volvo                         Volvo XC 90      379900.0   \n",
            "91519       volvo  Volvo XC 90 T6 AWD Inscription 7os      246000.0   \n",
            "91520       volvo               Volvo V60 T4 R-Design      159900.0   \n",
            "91521       volvo     Volvo XC 40 T5 AWD Momentum Pro      146000.0   \n",
            "91522       volvo          Volvo XC 40 T3 Inscription      108900.0   \n",
            "\n",
            "          mileage    gearbox engine_capacity    fuel_type  \\\n",
            "0      133 760 km     manual            1970      Benzyna   \n",
            "1      133 760 km     manual            1970      Benzyna   \n",
            "2      227 000 km     manual            1970      Benzyna   \n",
            "3      227 000 km     manual            1970      Benzyna   \n",
            "4      239 000 km     manual            1995  Benzyna+LPG   \n",
            "...           ...        ...             ...          ...   \n",
            "91518    1 024 km  automatic            1969      Hybryda   \n",
            "91519    1 024 km  automatic            1969      Hybryda   \n",
            "91520    8 847 km  automatic            1969      Benzyna   \n",
            "91521    8 847 km  automatic            1969      Benzyna   \n",
            "91522   34 000 km  automatic            1969      Benzyna   \n",
            "\n",
            "                      city         voivodeship    year  \n",
            "0                     Łask             Łódzkie  1998.0  \n",
            "1                    Mława         Mazowieckie  1998.0  \n",
            "2                  Chełmża  Kujawsko-pomorskie  1996.0  \n",
            "3                    Jasło        Podkarpackie  1996.0  \n",
            "4                Pabianice             Łódzkie  1995.0  \n",
            "...                    ...                 ...     ...  \n",
            "91518             Szczecin  Zachodniopomorskie  2022.0  \n",
            "91519              Siedlce         Mazowieckie  2022.0  \n",
            "91520            Pyrzowice             Śląskie  2020.0  \n",
            "91521              Żmigród        Dolnośląskie  2020.0  \n",
            "91522  Ostrów Wielkopolski       Wielkopolskie  2020.0  \n",
            "\n",
            "[85677 rows x 10 columns]\n"
          ]
        }
      ],
      "source": [
        "df['engine_capacity'] = df['engine_capacity'].str.replace(' ', '')\n",
        "\n",
        "# Exibindo o DataFrame com \" \" removido\n",
        "print(\"\\nDataFrame com ' ' removido:\")\n",
        "print(df)"
      ]
    },
    {
      "cell_type": "code",
      "execution_count": null,
      "metadata": {
        "id": "TGUYRARuYo1j"
      },
      "outputs": [],
      "source": [
        "df['engine_capacity'] = df['engine_capacity'].astype(float)"
      ]
    },
    {
      "cell_type": "code",
      "execution_count": null,
      "metadata": {
        "colab": {
          "base_uri": "https://localhost:8080/"
        },
        "id": "RuaROQUR1eWG",
        "outputId": "76264725-c311-445a-bff6-9dd0caa3d7ae"
      },
      "outputs": [
        {
          "output_type": "stream",
          "name": "stdout",
          "text": [
            "<class 'pandas.core.frame.DataFrame'>\n",
            "Int64Index: 85677 entries, 0 to 91522\n",
            "Data columns (total 10 columns):\n",
            " #   Column           Non-Null Count  Dtype  \n",
            "---  ------           --------------  -----  \n",
            " 0   brand            85677 non-null  object \n",
            " 1   model            85677 non-null  object \n",
            " 2   price_in_pln     85677 non-null  float64\n",
            " 3   mileage          85677 non-null  object \n",
            " 4   gearbox          85677 non-null  object \n",
            " 5   engine_capacity  85677 non-null  float64\n",
            " 6   fuel_type        85677 non-null  object \n",
            " 7   city             85677 non-null  object \n",
            " 8   voivodeship      85677 non-null  object \n",
            " 9   year             85677 non-null  float64\n",
            "dtypes: float64(3), object(7)\n",
            "memory usage: 7.2+ MB\n"
          ]
        }
      ],
      "source": [
        "df.info()"
      ]
    },
    {
      "cell_type": "code",
      "execution_count": null,
      "metadata": {
        "colab": {
          "base_uri": "https://localhost:8080/",
          "height": 206
        },
        "id": "KoR5nCuK2F53",
        "outputId": "b65e61c3-fce3-43a5-bef2-1b76488942fa"
      },
      "outputs": [
        {
          "output_type": "execute_result",
          "data": {
            "text/plain": [
              "        brand                            model  price_in_pln     mileage  \\\n",
              "0  alfa-romeo  Alfa Romeo Spider 2.0-16 TSpark       14700.0  133 760 km   \n",
              "1  alfa-romeo    Alfa Romeo GTV 2.0 16v TSpark       14000.0  133 760 km   \n",
              "2  alfa-romeo  Alfa Romeo 164 2.0 TSpark Super        4500.0  227 000 km   \n",
              "3  alfa-romeo     Alfa Romeo Spider 2.0 TSpark       17100.0  227 000 km   \n",
              "4  alfa-romeo    Alfa Romeo 156 1.6 TSpark 16v        3900.0  239 000 km   \n",
              "\n",
              "  gearbox  engine_capacity    fuel_type       city         voivodeship    year  \n",
              "0  manual           1970.0      Benzyna       Łask             Łódzkie  1998.0  \n",
              "1  manual           1970.0      Benzyna      Mława         Mazowieckie  1998.0  \n",
              "2  manual           1970.0      Benzyna    Chełmża  Kujawsko-pomorskie  1996.0  \n",
              "3  manual           1970.0      Benzyna      Jasło        Podkarpackie  1996.0  \n",
              "4  manual           1995.0  Benzyna+LPG  Pabianice             Łódzkie  1995.0  "
            ],
            "text/html": [
              "\n",
              "  <div id=\"df-33968144-9b9e-463d-bd91-4d6d436a096b\">\n",
              "    <div class=\"colab-df-container\">\n",
              "      <div>\n",
              "<style scoped>\n",
              "    .dataframe tbody tr th:only-of-type {\n",
              "        vertical-align: middle;\n",
              "    }\n",
              "\n",
              "    .dataframe tbody tr th {\n",
              "        vertical-align: top;\n",
              "    }\n",
              "\n",
              "    .dataframe thead th {\n",
              "        text-align: right;\n",
              "    }\n",
              "</style>\n",
              "<table border=\"1\" class=\"dataframe\">\n",
              "  <thead>\n",
              "    <tr style=\"text-align: right;\">\n",
              "      <th></th>\n",
              "      <th>brand</th>\n",
              "      <th>model</th>\n",
              "      <th>price_in_pln</th>\n",
              "      <th>mileage</th>\n",
              "      <th>gearbox</th>\n",
              "      <th>engine_capacity</th>\n",
              "      <th>fuel_type</th>\n",
              "      <th>city</th>\n",
              "      <th>voivodeship</th>\n",
              "      <th>year</th>\n",
              "    </tr>\n",
              "  </thead>\n",
              "  <tbody>\n",
              "    <tr>\n",
              "      <th>0</th>\n",
              "      <td>alfa-romeo</td>\n",
              "      <td>Alfa Romeo Spider 2.0-16 TSpark</td>\n",
              "      <td>14700.0</td>\n",
              "      <td>133 760 km</td>\n",
              "      <td>manual</td>\n",
              "      <td>1970.0</td>\n",
              "      <td>Benzyna</td>\n",
              "      <td>Łask</td>\n",
              "      <td>Łódzkie</td>\n",
              "      <td>1998.0</td>\n",
              "    </tr>\n",
              "    <tr>\n",
              "      <th>1</th>\n",
              "      <td>alfa-romeo</td>\n",
              "      <td>Alfa Romeo GTV 2.0 16v TSpark</td>\n",
              "      <td>14000.0</td>\n",
              "      <td>133 760 km</td>\n",
              "      <td>manual</td>\n",
              "      <td>1970.0</td>\n",
              "      <td>Benzyna</td>\n",
              "      <td>Mława</td>\n",
              "      <td>Mazowieckie</td>\n",
              "      <td>1998.0</td>\n",
              "    </tr>\n",
              "    <tr>\n",
              "      <th>2</th>\n",
              "      <td>alfa-romeo</td>\n",
              "      <td>Alfa Romeo 164 2.0 TSpark Super</td>\n",
              "      <td>4500.0</td>\n",
              "      <td>227 000 km</td>\n",
              "      <td>manual</td>\n",
              "      <td>1970.0</td>\n",
              "      <td>Benzyna</td>\n",
              "      <td>Chełmża</td>\n",
              "      <td>Kujawsko-pomorskie</td>\n",
              "      <td>1996.0</td>\n",
              "    </tr>\n",
              "    <tr>\n",
              "      <th>3</th>\n",
              "      <td>alfa-romeo</td>\n",
              "      <td>Alfa Romeo Spider 2.0 TSpark</td>\n",
              "      <td>17100.0</td>\n",
              "      <td>227 000 km</td>\n",
              "      <td>manual</td>\n",
              "      <td>1970.0</td>\n",
              "      <td>Benzyna</td>\n",
              "      <td>Jasło</td>\n",
              "      <td>Podkarpackie</td>\n",
              "      <td>1996.0</td>\n",
              "    </tr>\n",
              "    <tr>\n",
              "      <th>4</th>\n",
              "      <td>alfa-romeo</td>\n",
              "      <td>Alfa Romeo 156 1.6 TSpark 16v</td>\n",
              "      <td>3900.0</td>\n",
              "      <td>239 000 km</td>\n",
              "      <td>manual</td>\n",
              "      <td>1995.0</td>\n",
              "      <td>Benzyna+LPG</td>\n",
              "      <td>Pabianice</td>\n",
              "      <td>Łódzkie</td>\n",
              "      <td>1995.0</td>\n",
              "    </tr>\n",
              "  </tbody>\n",
              "</table>\n",
              "</div>\n",
              "      <button class=\"colab-df-convert\" onclick=\"convertToInteractive('df-33968144-9b9e-463d-bd91-4d6d436a096b')\"\n",
              "              title=\"Convert this dataframe to an interactive table.\"\n",
              "              style=\"display:none;\">\n",
              "        \n",
              "  <svg xmlns=\"http://www.w3.org/2000/svg\" height=\"24px\"viewBox=\"0 0 24 24\"\n",
              "       width=\"24px\">\n",
              "    <path d=\"M0 0h24v24H0V0z\" fill=\"none\"/>\n",
              "    <path d=\"M18.56 5.44l.94 2.06.94-2.06 2.06-.94-2.06-.94-.94-2.06-.94 2.06-2.06.94zm-11 1L8.5 8.5l.94-2.06 2.06-.94-2.06-.94L8.5 2.5l-.94 2.06-2.06.94zm10 10l.94 2.06.94-2.06 2.06-.94-2.06-.94-.94-2.06-.94 2.06-2.06.94z\"/><path d=\"M17.41 7.96l-1.37-1.37c-.4-.4-.92-.59-1.43-.59-.52 0-1.04.2-1.43.59L10.3 9.45l-7.72 7.72c-.78.78-.78 2.05 0 2.83L4 21.41c.39.39.9.59 1.41.59.51 0 1.02-.2 1.41-.59l7.78-7.78 2.81-2.81c.8-.78.8-2.07 0-2.86zM5.41 20L4 18.59l7.72-7.72 1.47 1.35L5.41 20z\"/>\n",
              "  </svg>\n",
              "      </button>\n",
              "      \n",
              "  <style>\n",
              "    .colab-df-container {\n",
              "      display:flex;\n",
              "      flex-wrap:wrap;\n",
              "      gap: 12px;\n",
              "    }\n",
              "\n",
              "    .colab-df-convert {\n",
              "      background-color: #E8F0FE;\n",
              "      border: none;\n",
              "      border-radius: 50%;\n",
              "      cursor: pointer;\n",
              "      display: none;\n",
              "      fill: #1967D2;\n",
              "      height: 32px;\n",
              "      padding: 0 0 0 0;\n",
              "      width: 32px;\n",
              "    }\n",
              "\n",
              "    .colab-df-convert:hover {\n",
              "      background-color: #E2EBFA;\n",
              "      box-shadow: 0px 1px 2px rgba(60, 64, 67, 0.3), 0px 1px 3px 1px rgba(60, 64, 67, 0.15);\n",
              "      fill: #174EA6;\n",
              "    }\n",
              "\n",
              "    [theme=dark] .colab-df-convert {\n",
              "      background-color: #3B4455;\n",
              "      fill: #D2E3FC;\n",
              "    }\n",
              "\n",
              "    [theme=dark] .colab-df-convert:hover {\n",
              "      background-color: #434B5C;\n",
              "      box-shadow: 0px 1px 3px 1px rgba(0, 0, 0, 0.15);\n",
              "      filter: drop-shadow(0px 1px 2px rgba(0, 0, 0, 0.3));\n",
              "      fill: #FFFFFF;\n",
              "    }\n",
              "  </style>\n",
              "\n",
              "      <script>\n",
              "        const buttonEl =\n",
              "          document.querySelector('#df-33968144-9b9e-463d-bd91-4d6d436a096b button.colab-df-convert');\n",
              "        buttonEl.style.display =\n",
              "          google.colab.kernel.accessAllowed ? 'block' : 'none';\n",
              "\n",
              "        async function convertToInteractive(key) {\n",
              "          const element = document.querySelector('#df-33968144-9b9e-463d-bd91-4d6d436a096b');\n",
              "          const dataTable =\n",
              "            await google.colab.kernel.invokeFunction('convertToInteractive',\n",
              "                                                     [key], {});\n",
              "          if (!dataTable) return;\n",
              "\n",
              "          const docLinkHtml = 'Like what you see? Visit the ' +\n",
              "            '<a target=\"_blank\" href=https://colab.research.google.com/notebooks/data_table.ipynb>data table notebook</a>'\n",
              "            + ' to learn more about interactive tables.';\n",
              "          element.innerHTML = '';\n",
              "          dataTable['output_type'] = 'display_data';\n",
              "          await google.colab.output.renderOutput(dataTable, element);\n",
              "          const docLink = document.createElement('div');\n",
              "          docLink.innerHTML = docLinkHtml;\n",
              "          element.appendChild(docLink);\n",
              "        }\n",
              "      </script>\n",
              "    </div>\n",
              "  </div>\n",
              "  "
            ]
          },
          "metadata": {},
          "execution_count": 18
        }
      ],
      "source": [
        "df.head()"
      ]
    },
    {
      "cell_type": "code",
      "execution_count": null,
      "metadata": {
        "id": "RqypaOiasYbP"
      },
      "outputs": [],
      "source": [
        "\n",
        "df[\"gearbox\"] = df[\"gearbox\"].astype('category')\n",
        "df['gearbox'] = df['gearbox'].cat.codes"
      ]
    },
    {
      "cell_type": "code",
      "execution_count": null,
      "metadata": {
        "colab": {
          "base_uri": "https://localhost:8080/"
        },
        "id": "kbn3DLjM2WGc",
        "outputId": "6ce2010d-b824-45f3-fd68-e5001302065a"
      },
      "outputs": [
        {
          "output_type": "stream",
          "name": "stdout",
          "text": [
            "['alfa-romeo' 'aston-martin' 'audi' 'bentley' 'bmw' 'cadillac' 'chevrolet'\n",
            " 'citroen' 'dacia' 'daewoo' 'daihatsu' 'dodge' 'ferrari' 'fiat' 'ford'\n",
            " 'honda' 'hyundai' 'infiniti' 'isuzu' 'jaguar' 'jeep' 'kia' 'lamborghini'\n",
            " 'lancia' 'land-rover' 'maserati' 'mazda' 'mercedes-benz' 'mini'\n",
            " 'mitsubishi' 'nissan' 'opel' 'peugeot' 'porsche' 'renault' 'rover' 'saab'\n",
            " 'seat' 'skoda' 'smart' 'toyota' 'volkswagen' 'volvo']\n",
            "volkswagen       10414\n",
            "opel              9807\n",
            "bmw               6602\n",
            "mercedes-benz     6289\n",
            "peugeot           6156\n",
            "ford              5925\n",
            "toyota            5763\n",
            "volvo             5041\n",
            "renault           4841\n",
            "hyundai           3475\n",
            "nissan            2662\n",
            "kia               2479\n",
            "honda             2034\n",
            "seat              2024\n",
            "citroen           1251\n",
            "land-rover        1012\n",
            "skoda              985\n",
            "mitsubishi         966\n",
            "jeep               863\n",
            "mini               683\n",
            "alfa-romeo         652\n",
            "porsche            645\n",
            "mazda              558\n",
            "fiat               544\n",
            "jaguar             516\n",
            "audi               483\n",
            "smart              392\n",
            "infiniti           373\n",
            "dacia              367\n",
            "dodge              321\n",
            "chevrolet          304\n",
            "saab               231\n",
            "isuzu              195\n",
            "rover              174\n",
            "maserati           119\n",
            "lancia             109\n",
            "bentley             95\n",
            "daihatsu            87\n",
            "daewoo              84\n",
            "cadillac            63\n",
            "ferrari             41\n",
            "aston-martin        38\n",
            "lamborghini         14\n",
            "Name: brand, dtype: int64\n"
          ]
        }
      ],
      "source": [
        "opcoes_unicas = df['brand'].unique()\n",
        "print(opcoes_unicas)\n",
        "\n",
        "contagem_opcoes = df['brand'].value_counts()\n",
        "print(contagem_opcoes)"
      ]
    },
    {
      "cell_type": "code",
      "execution_count": null,
      "metadata": {
        "id": "o0tyMZ8y2oLM"
      },
      "outputs": [],
      "source": [
        "df[\"brand\"] = df[\"brand\"].astype('category')\n",
        "df['brand'] = df['brand'].cat.codes"
      ]
    },
    {
      "cell_type": "code",
      "execution_count": null,
      "metadata": {
        "colab": {
          "base_uri": "https://localhost:8080/"
        },
        "id": "Jb530ywa24im",
        "outputId": "1695ad40-ee1b-4fa2-9baa-3dcd79f4a5d0"
      },
      "outputs": [
        {
          "output_type": "stream",
          "name": "stdout",
          "text": [
            "['Alfa Romeo Spider 2.0-16 TSpark' 'Alfa Romeo GTV 2.0 16v TSpark'\n",
            " 'Alfa Romeo 164 2.0 TSpark Super' ... 'Volvo S90 B4 B Momentum Pro'\n",
            " 'Volvo XC 40 Recharge Twin AWD Plus' 'Volvo XC 40 T3 Inscription']\n",
            "Opel Astra                                             1017\n",
            "Volkswagen Golf                                         734\n",
            "Toyota Corolla                                          612\n",
            "Ford Focus                                              515\n",
            "Volkswagen Passat                                       512\n",
            "                                                       ... \n",
            "Opel Grandland X 1.5 CDTI Elite S&S                       1\n",
            "Opel Zafira Tourer 1.4 Turbo drive                        1\n",
            "Opel Insignia 1.6 CDTI ecoFLEX Start/Stop Selection       1\n",
            "Dacia Sandero 1.4 Ambiance                                1\n",
            "Volvo XC 40 T3 Inscription                                1\n",
            "Name: model, Length: 18021, dtype: int64\n"
          ]
        }
      ],
      "source": [
        "opcoes_unicas = df['model'].unique()\n",
        "print(opcoes_unicas)\n",
        "\n",
        "contagem_opcoes = df['model'].value_counts()\n",
        "print(contagem_opcoes)"
      ]
    },
    {
      "cell_type": "code",
      "execution_count": null,
      "metadata": {
        "id": "lPqlswc73C4k"
      },
      "outputs": [],
      "source": [
        "df[\"model\"] = df[\"model\"].astype('category')\n",
        "df['model'] = df['model'].cat.codes"
      ]
    },
    {
      "cell_type": "code",
      "execution_count": null,
      "metadata": {
        "colab": {
          "base_uri": "https://localhost:8080/"
        },
        "id": "k883VrGU3Kac",
        "outputId": "772abbaf-5778-453f-dc0f-8e9b5120d0dc"
      },
      "outputs": [
        {
          "name": "stdout",
          "output_type": "stream",
          "text": [
            "<class 'pandas.core.frame.DataFrame'>\n",
            "Int64Index: 85677 entries, 0 to 91522\n",
            "Data columns (total 10 columns):\n",
            " #   Column           Non-Null Count  Dtype  \n",
            "---  ------           --------------  -----  \n",
            " 0   brand            85677 non-null  int8   \n",
            " 1   model            85677 non-null  int16  \n",
            " 2   price_in_pln     85677 non-null  float64\n",
            " 3   mileage          85677 non-null  object \n",
            " 4   gearbox          85677 non-null  int8   \n",
            " 5   engine_capacity  85677 non-null  float64\n",
            " 6   fuel_type        85677 non-null  object \n",
            " 7   city             85677 non-null  object \n",
            " 8   voivodeship      85677 non-null  object \n",
            " 9   year             85677 non-null  float64\n",
            "dtypes: float64(3), int16(1), int8(2), object(4)\n",
            "memory usage: 5.6+ MB\n"
          ]
        }
      ],
      "source": [
        "df.info()"
      ]
    },
    {
      "cell_type": "code",
      "execution_count": null,
      "metadata": {
        "colab": {
          "base_uri": "https://localhost:8080/"
        },
        "id": "H3xzjoR83O41",
        "outputId": "d734f546-f97e-4d14-d43c-310d46879e15"
      },
      "outputs": [
        {
          "output_type": "stream",
          "name": "stdout",
          "text": [
            "['133 760 km' '227 000 km' '239 000 km' ... '137 904 km' '1 024 km'\n",
            " '8 847 km']\n",
            "5 km          1802\n",
            "1 km          1597\n",
            "10 km          822\n",
            "180 000 km     533\n",
            "190 000 km     501\n",
            "              ... \n",
            "77 350 km        1\n",
            "59 785 km        1\n",
            "39 070 km        1\n",
            "64 895 km        1\n",
            "104 692 km       1\n",
            "Name: mileage, Length: 14035, dtype: int64\n"
          ]
        }
      ],
      "source": [
        "opcoes_unicas = df['mileage'].unique()\n",
        "print(opcoes_unicas)\n",
        "\n",
        "contagem_opcoes = df['mileage'].value_counts()\n",
        "print(contagem_opcoes)"
      ]
    },
    {
      "cell_type": "code",
      "execution_count": null,
      "metadata": {
        "id": "IyXKne1w3coN"
      },
      "outputs": [],
      "source": [
        "valor_especifico = 'km'\n",
        "df = df[df['mileage'].str.contains(valor_especifico)]"
      ]
    },
    {
      "cell_type": "code",
      "execution_count": null,
      "metadata": {
        "colab": {
          "base_uri": "https://localhost:8080/"
        },
        "id": "KfkIcDfj4F_E",
        "outputId": "a84c26af-9c24-43ba-8c39-f956419bc8b0"
      },
      "outputs": [
        {
          "output_type": "stream",
          "name": "stdout",
          "text": [
            "\n",
            "DataFrame com 'cm3' removido:\n",
            "       brand  model  price_in_pln  mileage  gearbox  engine_capacity  \\\n",
            "0          0    124       14700.0  133 760        1           1970.0   \n",
            "1          0     60       14000.0  133 760        1           1970.0   \n",
            "2          0     43        4500.0  227 000        1           1970.0   \n",
            "3          0    123       17100.0  227 000        1           1970.0   \n",
            "4          0     13        3900.0  239 000        1           1995.0   \n",
            "...      ...    ...           ...      ...      ...              ...   \n",
            "91518     42  17946      379900.0    1 024        0           1969.0   \n",
            "91519     42  18009      246000.0    1 024        0           1969.0   \n",
            "91520     42  17549      159900.0    8 847        0           1969.0   \n",
            "91521     42  17746      146000.0    8 847        0           1969.0   \n",
            "91522     42  17733      108900.0   34 000        0           1969.0   \n",
            "\n",
            "         fuel_type                 city         voivodeship    year  \n",
            "0          Benzyna                 Łask             Łódzkie  1998.0  \n",
            "1          Benzyna                Mława         Mazowieckie  1998.0  \n",
            "2          Benzyna              Chełmża  Kujawsko-pomorskie  1996.0  \n",
            "3          Benzyna                Jasło        Podkarpackie  1996.0  \n",
            "4      Benzyna+LPG            Pabianice             Łódzkie  1995.0  \n",
            "...            ...                  ...                 ...     ...  \n",
            "91518      Hybryda             Szczecin  Zachodniopomorskie  2022.0  \n",
            "91519      Hybryda              Siedlce         Mazowieckie  2022.0  \n",
            "91520      Benzyna            Pyrzowice             Śląskie  2020.0  \n",
            "91521      Benzyna              Żmigród        Dolnośląskie  2020.0  \n",
            "91522      Benzyna  Ostrów Wielkopolski       Wielkopolskie  2020.0  \n",
            "\n",
            "[85677 rows x 10 columns]\n"
          ]
        }
      ],
      "source": [
        "df['mileage'] = df['mileage'].str.replace(' km', '')\n",
        "\n",
        "# Exibindo o DataFrame com \"cm3\" removido\n",
        "print(\"\\nDataFrame com 'cm3' removido:\")\n",
        "print(df)"
      ]
    },
    {
      "cell_type": "code",
      "execution_count": null,
      "metadata": {
        "colab": {
          "base_uri": "https://localhost:8080/"
        },
        "id": "cfmZZLND3Vuc",
        "outputId": "584593e8-9925-4af0-a373-e9ea85ddf2e2"
      },
      "outputs": [
        {
          "output_type": "stream",
          "name": "stdout",
          "text": [
            "\n",
            "DataFrame com ' ' removido:\n",
            "       brand  model  price_in_pln mileage  gearbox  engine_capacity  \\\n",
            "0          0    124       14700.0  133760        1           1970.0   \n",
            "1          0     60       14000.0  133760        1           1970.0   \n",
            "2          0     43        4500.0  227000        1           1970.0   \n",
            "3          0    123       17100.0  227000        1           1970.0   \n",
            "4          0     13        3900.0  239000        1           1995.0   \n",
            "...      ...    ...           ...     ...      ...              ...   \n",
            "91518     42  17946      379900.0    1024        0           1969.0   \n",
            "91519     42  18009      246000.0    1024        0           1969.0   \n",
            "91520     42  17549      159900.0    8847        0           1969.0   \n",
            "91521     42  17746      146000.0    8847        0           1969.0   \n",
            "91522     42  17733      108900.0   34000        0           1969.0   \n",
            "\n",
            "         fuel_type                 city         voivodeship    year  \n",
            "0          Benzyna                 Łask             Łódzkie  1998.0  \n",
            "1          Benzyna                Mława         Mazowieckie  1998.0  \n",
            "2          Benzyna              Chełmża  Kujawsko-pomorskie  1996.0  \n",
            "3          Benzyna                Jasło        Podkarpackie  1996.0  \n",
            "4      Benzyna+LPG            Pabianice             Łódzkie  1995.0  \n",
            "...            ...                  ...                 ...     ...  \n",
            "91518      Hybryda             Szczecin  Zachodniopomorskie  2022.0  \n",
            "91519      Hybryda              Siedlce         Mazowieckie  2022.0  \n",
            "91520      Benzyna            Pyrzowice             Śląskie  2020.0  \n",
            "91521      Benzyna              Żmigród        Dolnośląskie  2020.0  \n",
            "91522      Benzyna  Ostrów Wielkopolski       Wielkopolskie  2020.0  \n",
            "\n",
            "[85677 rows x 10 columns]\n"
          ]
        }
      ],
      "source": [
        "df['mileage'] = df['mileage'].str.replace(' ', '')\n",
        "\n",
        "# Exibindo o DataFrame com \" \" removido\n",
        "print(\"\\nDataFrame com ' ' removido:\")\n",
        "print(df)"
      ]
    },
    {
      "cell_type": "code",
      "execution_count": null,
      "metadata": {
        "id": "0hRsjWpx43nH"
      },
      "outputs": [],
      "source": [
        "df['mileage'] = df['mileage'].astype(float)"
      ]
    },
    {
      "cell_type": "code",
      "execution_count": null,
      "metadata": {
        "colab": {
          "base_uri": "https://localhost:8080/"
        },
        "id": "QK4oUFpz4-jx",
        "outputId": "24705a76-8b13-4c93-e5fd-9d925fbc7c28"
      },
      "outputs": [
        {
          "name": "stdout",
          "output_type": "stream",
          "text": [
            "<class 'pandas.core.frame.DataFrame'>\n",
            "Int64Index: 85677 entries, 0 to 91522\n",
            "Data columns (total 10 columns):\n",
            " #   Column           Non-Null Count  Dtype  \n",
            "---  ------           --------------  -----  \n",
            " 0   brand            85677 non-null  int8   \n",
            " 1   model            85677 non-null  int16  \n",
            " 2   price_in_pln     85677 non-null  float64\n",
            " 3   mileage          85677 non-null  float64\n",
            " 4   gearbox          85677 non-null  int8   \n",
            " 5   engine_capacity  85677 non-null  float64\n",
            " 6   fuel_type        85677 non-null  object \n",
            " 7   city             85677 non-null  object \n",
            " 8   voivodeship      85677 non-null  object \n",
            " 9   year             85677 non-null  float64\n",
            "dtypes: float64(4), int16(1), int8(2), object(3)\n",
            "memory usage: 5.6+ MB\n"
          ]
        }
      ],
      "source": [
        "df.info()"
      ]
    },
    {
      "cell_type": "code",
      "execution_count": null,
      "metadata": {
        "colab": {
          "base_uri": "https://localhost:8080/"
        },
        "id": "X8MywVl25Un3",
        "outputId": "5a74f44f-184c-48a1-b30f-787c55e6f863"
      },
      "outputs": [
        {
          "output_type": "stream",
          "name": "stdout",
          "text": [
            "['Benzyna' 'Benzyna+LPG' 'Diesel' 'Hybryda' 'Benzyna+CNG' 'Elektryczny']\n",
            "Benzyna        43077\n",
            "Diesel         35603\n",
            "Benzyna+LPG     4066\n",
            "Hybryda         2893\n",
            "Benzyna+CNG       24\n",
            "Elektryczny       14\n",
            "Name: fuel_type, dtype: int64\n"
          ]
        }
      ],
      "source": [
        "opcoes_unicas = df['fuel_type'].unique()\n",
        "print(opcoes_unicas)\n",
        "\n",
        "contagem_opcoes = df['fuel_type'].value_counts()\n",
        "print(contagem_opcoes)"
      ]
    },
    {
      "cell_type": "code",
      "execution_count": null,
      "metadata": {
        "colab": {
          "base_uri": "https://localhost:8080/"
        },
        "id": "QtnH874z6JUR",
        "outputId": "216a2ca9-347f-4233-e346-00f06e43e34b"
      },
      "outputs": [
        {
          "output_type": "stream",
          "name": "stdout",
          "text": [
            "       brand  model  price_in_pln   mileage  gearbox  engine_capacity  \\\n",
            "0          0    124       14700.0  133760.0        1           1970.0   \n",
            "1          0     60       14000.0  133760.0        1           1970.0   \n",
            "2          0     43        4500.0  227000.0        1           1970.0   \n",
            "3          0    123       17100.0  227000.0        1           1970.0   \n",
            "4          0     13        3900.0  239000.0        1           1995.0   \n",
            "...      ...    ...           ...       ...      ...              ...   \n",
            "91518     42  17946      379900.0    1024.0        0           1969.0   \n",
            "91519     42  18009      246000.0    1024.0        0           1969.0   \n",
            "91520     42  17549      159900.0    8847.0        0           1969.0   \n",
            "91521     42  17746      146000.0    8847.0        0           1969.0   \n",
            "91522     42  17733      108900.0   34000.0        0           1969.0   \n",
            "\n",
            "         fuel_type                 city         voivodeship    year  \\\n",
            "0          Benzyna                 Łask             Łódzkie  1998.0   \n",
            "1          Benzyna                Mława         Mazowieckie  1998.0   \n",
            "2          Benzyna              Chełmża  Kujawsko-pomorskie  1996.0   \n",
            "3          Benzyna                Jasło        Podkarpackie  1996.0   \n",
            "4      Benzyna+LPG            Pabianice             Łódzkie  1995.0   \n",
            "...            ...                  ...                 ...     ...   \n",
            "91518      Hybryda             Szczecin  Zachodniopomorskie  2022.0   \n",
            "91519      Hybryda              Siedlce         Mazowieckie  2022.0   \n",
            "91520      Benzyna            Pyrzowice             Śląskie  2020.0   \n",
            "91521      Benzyna              Żmigród        Dolnośląskie  2020.0   \n",
            "91522      Benzyna  Ostrów Wielkopolski       Wielkopolskie  2020.0   \n",
            "\n",
            "       fuel_type_Benzyna  fuel_type_Benzyna+CNG  fuel_type_Benzyna+LPG  \\\n",
            "0                      1                      0                      0   \n",
            "1                      1                      0                      0   \n",
            "2                      1                      0                      0   \n",
            "3                      1                      0                      0   \n",
            "4                      0                      0                      1   \n",
            "...                  ...                    ...                    ...   \n",
            "91518                  0                      0                      0   \n",
            "91519                  0                      0                      0   \n",
            "91520                  1                      0                      0   \n",
            "91521                  1                      0                      0   \n",
            "91522                  1                      0                      0   \n",
            "\n",
            "       fuel_type_Diesel  fuel_type_Elektryczny  fuel_type_Hybryda  \n",
            "0                     0                      0                  0  \n",
            "1                     0                      0                  0  \n",
            "2                     0                      0                  0  \n",
            "3                     0                      0                  0  \n",
            "4                     0                      0                  0  \n",
            "...                 ...                    ...                ...  \n",
            "91518                 0                      0                  1  \n",
            "91519                 0                      0                  1  \n",
            "91520                 0                      0                  0  \n",
            "91521                 0                      0                  0  \n",
            "91522                 0                      0                  0  \n",
            "\n",
            "[85677 rows x 16 columns]\n"
          ]
        }
      ],
      "source": [
        "coluna_fuel_type = df['fuel_type']\n",
        "\n",
        "# Aplicando o get_dummies na coluna 'frutas'\n",
        "dummies_fuel_type = pd.get_dummies(coluna_fuel_type, prefix='fuel_type')\n",
        "\n",
        "# Concatenando as colunas binárias ao DataFrame original\n",
        "df = pd.concat([df, dummies_fuel_type], axis=1)\n",
        "\n",
        "# Exibindo o resultado\n",
        "print(df)"
      ]
    },
    {
      "cell_type": "code",
      "execution_count": null,
      "metadata": {
        "id": "G5Qbl1WMKwHa"
      },
      "outputs": [],
      "source": [
        "df.info()"
      ]
    },
    {
      "cell_type": "code",
      "execution_count": null,
      "metadata": {
        "id": "TcOmy9UbK7aR"
      },
      "outputs": [],
      "source": [
        "df = df.drop('fuel_type', axis=1)"
      ]
    },
    {
      "cell_type": "code",
      "execution_count": null,
      "metadata": {
        "colab": {
          "base_uri": "https://localhost:8080/"
        },
        "id": "iOYiR5UDLM1z",
        "outputId": "4f7c9f8d-e3af-42e0-b8f0-3da184812bc1"
      },
      "outputs": [
        {
          "output_type": "stream",
          "name": "stdout",
          "text": [
            "['Łask' 'Mława' 'Chełmża' ... 'Wicie' 'Stare Pole' 'Załuski']\n",
            "Warszawa        6376\n",
            "Kraków          2262\n",
            "Wrocław         2037\n",
            "Poznań          1940\n",
            "Łódź            1870\n",
            "                ... \n",
            "Krzeszyce          1\n",
            "Stary Adamów       1\n",
            "Latkowo            1\n",
            "Dworzysko          1\n",
            "Załuski            1\n",
            "Name: city, Length: 4353, dtype: int64\n"
          ]
        }
      ],
      "source": [
        "opcoes_unicas = df['city'].unique()\n",
        "print(opcoes_unicas)\n",
        "\n",
        "contagem_opcoes = df['city'].value_counts()\n",
        "print(contagem_opcoes)"
      ]
    },
    {
      "cell_type": "code",
      "execution_count": null,
      "metadata": {
        "id": "WDIpxrVTLw9o"
      },
      "outputs": [],
      "source": [
        "df[\"city\"] = df[\"city\"].astype('category')\n",
        "df['city'] = df['city'].cat.codes"
      ]
    },
    {
      "cell_type": "code",
      "execution_count": null,
      "metadata": {
        "colab": {
          "base_uri": "https://localhost:8080/"
        },
        "id": "i9--YazdPjWk",
        "outputId": "7d54224f-90c9-4e34-b974-34fe090d0902"
      },
      "outputs": [
        {
          "name": "stdout",
          "output_type": "stream",
          "text": [
            "<class 'pandas.core.frame.DataFrame'>\n",
            "Int64Index: 85677 entries, 0 to 91522\n",
            "Data columns (total 15 columns):\n",
            " #   Column                 Non-Null Count  Dtype  \n",
            "---  ------                 --------------  -----  \n",
            " 0   brand                  85677 non-null  int8   \n",
            " 1   model                  85677 non-null  int16  \n",
            " 2   price_in_pln           85677 non-null  float64\n",
            " 3   mileage                85677 non-null  float64\n",
            " 4   gearbox                85677 non-null  int8   \n",
            " 5   engine_capacity        85677 non-null  float64\n",
            " 6   city                   85677 non-null  int16  \n",
            " 7   voivodeship            85677 non-null  object \n",
            " 8   year                   85677 non-null  float64\n",
            " 9   fuel_type_Benzyna      85677 non-null  uint8  \n",
            " 10  fuel_type_Benzyna+CNG  85677 non-null  uint8  \n",
            " 11  fuel_type_Benzyna+LPG  85677 non-null  uint8  \n",
            " 12  fuel_type_Diesel       85677 non-null  uint8  \n",
            " 13  fuel_type_Elektryczny  85677 non-null  uint8  \n",
            " 14  fuel_type_Hybryda      85677 non-null  uint8  \n",
            "dtypes: float64(4), int16(2), int8(2), object(1), uint8(6)\n",
            "memory usage: 4.9+ MB\n"
          ]
        }
      ],
      "source": [
        "df.info()"
      ]
    },
    {
      "cell_type": "code",
      "execution_count": null,
      "metadata": {
        "colab": {
          "base_uri": "https://localhost:8080/"
        },
        "id": "CDY0VfPoPoYa",
        "outputId": "056167a3-a7b9-4b45-f559-fcc5397fc60b"
      },
      "outputs": [
        {
          "output_type": "stream",
          "name": "stdout",
          "text": [
            "['Łódzkie' 'Mazowieckie' 'Kujawsko-pomorskie' 'Podkarpackie'\n",
            " 'Wielkopolskie' 'Pomorskie' 'Małopolskie' 'Podlaskie' 'Śląskie'\n",
            " 'Dolnośląskie' 'Lubelskie' 'Świętokrzyskie' 'Zachodniopomorskie'\n",
            " 'Lubuskie' 'Opolskie' 'Warmińsko-mazurskie' 'Praga'\n",
            " 'Moravian-Silesian Region' 'Brandenburg' 'Rheinland-Pfalz' 'Anglia'\n",
            " 'Berlin' 'Hessen' 'Jihomoravský kraj' 'Nordrhein-Westfalen']\n",
            "Mazowieckie                 16863\n",
            "Wielkopolskie               11660\n",
            "Śląskie                     10547\n",
            "Małopolskie                  7346\n",
            "Dolnośląskie                 6544\n",
            "Pomorskie                    5152\n",
            "Łódzkie                      5129\n",
            "Kujawsko-pomorskie           3664\n",
            "Zachodniopomorskie           3112\n",
            "Lubelskie                    3104\n",
            "Podkarpackie                 2750\n",
            "Świętokrzyskie               2561\n",
            "Lubuskie                     2287\n",
            "Warmińsko-mazurskie          1867\n",
            "Podlaskie                    1646\n",
            "Opolskie                     1400\n",
            "Moravian-Silesian Region       29\n",
            "Berlin                          4\n",
            "Nordrhein-Westfalen             4\n",
            "Praga                           3\n",
            "Brandenburg                     1\n",
            "Rheinland-Pfalz                 1\n",
            "Anglia                          1\n",
            "Hessen                          1\n",
            "Jihomoravský kraj               1\n",
            "Name: voivodeship, dtype: int64\n"
          ]
        }
      ],
      "source": [
        "opcoes_unicas = df['voivodeship'].unique()\n",
        "print(opcoes_unicas)\n",
        "\n",
        "contagem_opcoes = df['voivodeship'].value_counts()\n",
        "print(contagem_opcoes)"
      ]
    },
    {
      "cell_type": "code",
      "execution_count": null,
      "metadata": {
        "colab": {
          "base_uri": "https://localhost:8080/"
        },
        "id": "9guRPTeVSfby",
        "outputId": "86d01dfa-2e10-4f7b-b9cf-051b327c6cc0"
      },
      "outputs": [
        {
          "output_type": "stream",
          "name": "stdout",
          "text": [
            "       brand  model  price_in_pln   mileage  gearbox  engine_capacity  city  \\\n",
            "0          0    124       14700.0  133760.0        1           1970.0  4147   \n",
            "1          0     60       14000.0  133760.0        1           1970.0  2144   \n",
            "2          0     43        4500.0  227000.0        1           1970.0   426   \n",
            "3          0    123       17100.0  227000.0        1           1970.0  1178   \n",
            "4          0     13        3900.0  239000.0        1           1995.0  2458   \n",
            "...      ...    ...           ...       ...      ...              ...   ...   \n",
            "91518     42  17946      379900.0    1024.0        0           1969.0  3404   \n",
            "91519     42  18009      246000.0    1024.0        0           1969.0  3071   \n",
            "91520     42  17549      159900.0    8847.0        0           1969.0  2785   \n",
            "91521     42  17746      146000.0    8847.0        0           1969.0  4327   \n",
            "91522     42  17733      108900.0   34000.0        0           1969.0  2424   \n",
            "\n",
            "              voivodeship    year  fuel_type_Benzyna  ...  \\\n",
            "0                 Łódzkie  1998.0                  1  ...   \n",
            "1             Mazowieckie  1998.0                  1  ...   \n",
            "2      Kujawsko-pomorskie  1996.0                  1  ...   \n",
            "3            Podkarpackie  1996.0                  1  ...   \n",
            "4                 Łódzkie  1995.0                  0  ...   \n",
            "...                   ...     ...                ...  ...   \n",
            "91518  Zachodniopomorskie  2022.0                  0  ...   \n",
            "91519         Mazowieckie  2022.0                  0  ...   \n",
            "91520             Śląskie  2020.0                  1  ...   \n",
            "91521        Dolnośląskie  2020.0                  1  ...   \n",
            "91522       Wielkopolskie  2020.0                  1  ...   \n",
            "\n",
            "       voivodeship_Podlaskie  voivodeship_Pomorskie  voivodeship_Praga  \\\n",
            "0                          0                      0                  0   \n",
            "1                          0                      0                  0   \n",
            "2                          0                      0                  0   \n",
            "3                          0                      0                  0   \n",
            "4                          0                      0                  0   \n",
            "...                      ...                    ...                ...   \n",
            "91518                      0                      0                  0   \n",
            "91519                      0                      0                  0   \n",
            "91520                      0                      0                  0   \n",
            "91521                      0                      0                  0   \n",
            "91522                      0                      0                  0   \n",
            "\n",
            "       voivodeship_Rheinland-Pfalz  voivodeship_Warmińsko-mazurskie  \\\n",
            "0                                0                                0   \n",
            "1                                0                                0   \n",
            "2                                0                                0   \n",
            "3                                0                                0   \n",
            "4                                0                                0   \n",
            "...                            ...                              ...   \n",
            "91518                            0                                0   \n",
            "91519                            0                                0   \n",
            "91520                            0                                0   \n",
            "91521                            0                                0   \n",
            "91522                            0                                0   \n",
            "\n",
            "       voivodeship_Wielkopolskie  voivodeship_Zachodniopomorskie  \\\n",
            "0                              0                               0   \n",
            "1                              0                               0   \n",
            "2                              0                               0   \n",
            "3                              0                               0   \n",
            "4                              0                               0   \n",
            "...                          ...                             ...   \n",
            "91518                          0                               1   \n",
            "91519                          0                               0   \n",
            "91520                          0                               0   \n",
            "91521                          0                               0   \n",
            "91522                          1                               0   \n",
            "\n",
            "       voivodeship_Łódzkie  voivodeship_Śląskie  voivodeship_Świętokrzyskie  \n",
            "0                        1                    0                           0  \n",
            "1                        0                    0                           0  \n",
            "2                        0                    0                           0  \n",
            "3                        0                    0                           0  \n",
            "4                        1                    0                           0  \n",
            "...                    ...                  ...                         ...  \n",
            "91518                    0                    0                           0  \n",
            "91519                    0                    0                           0  \n",
            "91520                    0                    1                           0  \n",
            "91521                    0                    0                           0  \n",
            "91522                    0                    0                           0  \n",
            "\n",
            "[85677 rows x 40 columns]\n"
          ]
        }
      ],
      "source": [
        "coluna_fuel_type = df['voivodeship']\n",
        "\n",
        "# Aplicando o get_dummies na coluna 'frutas'\n",
        "dummies_fuel_type = pd.get_dummies(coluna_fuel_type, prefix='voivodeship')\n",
        "\n",
        "# Concatenando as colunas binárias ao DataFrame original\n",
        "df = pd.concat([df, dummies_fuel_type], axis=1)\n",
        "\n",
        "# Exibindo o resultado\n",
        "print(df)"
      ]
    },
    {
      "cell_type": "code",
      "execution_count": null,
      "metadata": {
        "id": "eXJbmoVwS98e"
      },
      "outputs": [],
      "source": [
        "df = df.drop('voivodeship', axis=1)"
      ]
    },
    {
      "cell_type": "code",
      "execution_count": null,
      "metadata": {
        "colab": {
          "base_uri": "https://localhost:8080/"
        },
        "id": "-qi2tbIvTb9L",
        "outputId": "66ba2bea-c973-4ecd-a443-21ad3fe705d4"
      },
      "outputs": [
        {
          "name": "stdout",
          "output_type": "stream",
          "text": [
            "<class 'pandas.core.frame.DataFrame'>\n",
            "Int64Index: 85677 entries, 0 to 91522\n",
            "Data columns (total 39 columns):\n",
            " #   Column                                Non-Null Count  Dtype  \n",
            "---  ------                                --------------  -----  \n",
            " 0   brand                                 85677 non-null  int8   \n",
            " 1   model                                 85677 non-null  int16  \n",
            " 2   price_in_pln                          85677 non-null  float64\n",
            " 3   mileage                               85677 non-null  float64\n",
            " 4   gearbox                               85677 non-null  int8   \n",
            " 5   engine_capacity                       85677 non-null  float64\n",
            " 6   city                                  85677 non-null  int16  \n",
            " 7   year                                  85677 non-null  float64\n",
            " 8   fuel_type_Benzyna                     85677 non-null  uint8  \n",
            " 9   fuel_type_Benzyna+CNG                 85677 non-null  uint8  \n",
            " 10  fuel_type_Benzyna+LPG                 85677 non-null  uint8  \n",
            " 11  fuel_type_Diesel                      85677 non-null  uint8  \n",
            " 12  fuel_type_Elektryczny                 85677 non-null  uint8  \n",
            " 13  fuel_type_Hybryda                     85677 non-null  uint8  \n",
            " 14  voivodeship_Anglia                    85677 non-null  uint8  \n",
            " 15  voivodeship_Berlin                    85677 non-null  uint8  \n",
            " 16  voivodeship_Brandenburg               85677 non-null  uint8  \n",
            " 17  voivodeship_Dolnośląskie              85677 non-null  uint8  \n",
            " 18  voivodeship_Hessen                    85677 non-null  uint8  \n",
            " 19  voivodeship_Jihomoravský kraj         85677 non-null  uint8  \n",
            " 20  voivodeship_Kujawsko-pomorskie        85677 non-null  uint8  \n",
            " 21  voivodeship_Lubelskie                 85677 non-null  uint8  \n",
            " 22  voivodeship_Lubuskie                  85677 non-null  uint8  \n",
            " 23  voivodeship_Mazowieckie               85677 non-null  uint8  \n",
            " 24  voivodeship_Małopolskie               85677 non-null  uint8  \n",
            " 25  voivodeship_Moravian-Silesian Region  85677 non-null  uint8  \n",
            " 26  voivodeship_Nordrhein-Westfalen       85677 non-null  uint8  \n",
            " 27  voivodeship_Opolskie                  85677 non-null  uint8  \n",
            " 28  voivodeship_Podkarpackie              85677 non-null  uint8  \n",
            " 29  voivodeship_Podlaskie                 85677 non-null  uint8  \n",
            " 30  voivodeship_Pomorskie                 85677 non-null  uint8  \n",
            " 31  voivodeship_Praga                     85677 non-null  uint8  \n",
            " 32  voivodeship_Rheinland-Pfalz           85677 non-null  uint8  \n",
            " 33  voivodeship_Warmińsko-mazurskie       85677 non-null  uint8  \n",
            " 34  voivodeship_Wielkopolskie             85677 non-null  uint8  \n",
            " 35  voivodeship_Zachodniopomorskie        85677 non-null  uint8  \n",
            " 36  voivodeship_Łódzkie                   85677 non-null  uint8  \n",
            " 37  voivodeship_Śląskie                   85677 non-null  uint8  \n",
            " 38  voivodeship_Świętokrzyskie            85677 non-null  uint8  \n",
            "dtypes: float64(4), int16(2), int8(2), uint8(31)\n",
            "memory usage: 6.3 MB\n"
          ]
        }
      ],
      "source": [
        "df.info()"
      ]
    },
    {
      "cell_type": "code",
      "execution_count": null,
      "metadata": {
        "colab": {
          "base_uri": "https://localhost:8080/"
        },
        "id": "ucQFabg4LY0Z",
        "outputId": "ff4b2ab6-40a4-40c9-df0c-1d91efac592e"
      },
      "outputs": [
        {
          "output_type": "stream",
          "name": "stdout",
          "text": [
            "brand                                  -0.168219\n",
            "model                                  -0.155727\n",
            "price_in_pln                            1.000000\n",
            "mileage                                -0.418942\n",
            "gearbox                                -0.377436\n",
            "engine_capacity                         0.237754\n",
            "city                                    0.010470\n",
            "year                                    0.457222\n",
            "fuel_type_Benzyna                       0.034127\n",
            "fuel_type_Benzyna+CNG                  -0.004932\n",
            "fuel_type_Benzyna+LPG                  -0.099369\n",
            "fuel_type_Diesel                       -0.031182\n",
            "fuel_type_Elektryczny                   0.014121\n",
            "fuel_type_Hybryda                       0.107035\n",
            "voivodeship_Anglia                      0.000105\n",
            "voivodeship_Berlin                     -0.001288\n",
            "voivodeship_Brandenburg                 0.002864\n",
            "voivodeship_Dolnośląskie               -0.004465\n",
            "voivodeship_Hessen                      0.001927\n",
            "voivodeship_Jihomoravský kraj           0.001587\n",
            "voivodeship_Kujawsko-pomorskie         -0.000365\n",
            "voivodeship_Lubelskie                  -0.034675\n",
            "voivodeship_Lubuskie                   -0.006677\n",
            "voivodeship_Mazowieckie                 0.043694\n",
            "voivodeship_Małopolskie                -0.009590\n",
            "voivodeship_Moravian-Silesian Region   -0.005666\n",
            "voivodeship_Nordrhein-Westfalen         0.003037\n",
            "voivodeship_Opolskie                   -0.009589\n",
            "voivodeship_Podkarpackie               -0.027141\n",
            "voivodeship_Podlaskie                   0.002783\n",
            "voivodeship_Pomorskie                   0.013888\n",
            "voivodeship_Praga                       0.007881\n",
            "voivodeship_Rheinland-Pfalz             0.001501\n",
            "voivodeship_Warmińsko-mazurskie        -0.023986\n",
            "voivodeship_Wielkopolskie              -0.019894\n",
            "voivodeship_Zachodniopomorskie         -0.005294\n",
            "voivodeship_Łódzkie                     0.002347\n",
            "voivodeship_Śląskie                     0.038659\n",
            "voivodeship_Świętokrzyskie             -0.032195\n",
            "Name: price_in_pln, dtype: float64\n"
          ]
        }
      ],
      "source": [
        "\n",
        "correlation = df.corr()['price_in_pln']\n",
        "\n",
        "# Exibindo o resultado\n",
        "print(correlation)"
      ]
    },
    {
      "cell_type": "code",
      "execution_count": null,
      "metadata": {
        "id": "uflzUB5uT2y5"
      },
      "outputs": [],
      "source": [
        "def eliminar_outlier(df, colname):\n",
        "\n",
        "\n",
        "        z_mean = df[colname].mean()  #media\n",
        "        z_std  = df[colname].std()   #desvio padrao\n",
        "\n",
        "        z_corte_min = z_mean - 2.5 * z_std\n",
        "        z_corte_max = z_mean + 2.5 * z_std\n",
        "\n",
        "        lista_outlier =  []\n",
        "        for i in range(len(df)):\n",
        "            if ((df.iloc[i][colname] < z_corte_min) or (df.iloc[i][colname] > z_corte_max)):\n",
        "                 lista_outlier.append(i)\n",
        "\n",
        "        df = df.drop(df.index[lista_outlier])\n",
        "\n",
        "        return df"
      ]
    },
    {
      "cell_type": "code",
      "execution_count": null,
      "metadata": {
        "id": "jqVr-wNzT4gl"
      },
      "outputs": [],
      "source": [
        "#for i in df.columns:\n",
        "  #df = eliminar_outlier(df, i)"
      ]
    },
    {
      "cell_type": "code",
      "execution_count": null,
      "metadata": {
        "id": "nZUoJ6c5WdlH"
      },
      "outputs": [],
      "source": [
        "df.info()"
      ]
    },
    {
      "cell_type": "code",
      "execution_count": null,
      "metadata": {
        "id": "bAW7ZmNV9pi4"
      },
      "outputs": [],
      "source": [
        "df_pronto = df"
      ]
    },
    {
      "cell_type": "code",
      "execution_count": null,
      "metadata": {
        "id": "2C1XF5iZXs8B"
      },
      "outputs": [],
      "source": [
        "############## Cria as variáveis independentes e dependente\n",
        "\n",
        "### Separar dados de treinamento e dados de teste.\n",
        "X = df[df.columns] #slice no dataframe e retorna dataframe\n",
        "X  = X.drop(['price_in_pln'], axis=1) #remove a variável dependente do X\n",
        "y = df[['price_in_pln']]"
      ]
    },
    {
      "cell_type": "code",
      "execution_count": null,
      "metadata": {
        "id": "9mT4hMlsX87S"
      },
      "outputs": [],
      "source": [
        "from sklearn.model_selection import train_test_split\n",
        "\n",
        "#divide o banco de dados em treinamento e teste. random_state é somente para gerar o mesmo resultado\n",
        "X_train, X_test, y_train, y_test = train_test_split(X, y, test_size = 0.2, random_state = 0)"
      ]
    },
    {
      "cell_type": "code",
      "execution_count": null,
      "metadata": {
        "colab": {
          "base_uri": "https://localhost:8080/"
        },
        "id": "JMfnX6v_UCAs",
        "outputId": "9f4b4508-75c2-483a-90fc-b5c67ffa5b91"
      },
      "outputs": [
        {
          "name": "stdout",
          "output_type": "stream",
          "text": [
            "<class 'pandas.core.frame.DataFrame'>\n",
            "Int64Index: 68541 entries, 59183 to 72625\n",
            "Data columns (total 38 columns):\n",
            " #   Column                                Non-Null Count  Dtype  \n",
            "---  ------                                --------------  -----  \n",
            " 0   brand                                 68541 non-null  int8   \n",
            " 1   model                                 68541 non-null  int16  \n",
            " 2   mileage                               68541 non-null  float64\n",
            " 3   gearbox                               68541 non-null  int8   \n",
            " 4   engine_capacity                       68541 non-null  float64\n",
            " 5   city                                  68541 non-null  int16  \n",
            " 6   year                                  68541 non-null  float64\n",
            " 7   fuel_type_Benzyna                     68541 non-null  uint8  \n",
            " 8   fuel_type_Benzyna+CNG                 68541 non-null  uint8  \n",
            " 9   fuel_type_Benzyna+LPG                 68541 non-null  uint8  \n",
            " 10  fuel_type_Diesel                      68541 non-null  uint8  \n",
            " 11  fuel_type_Elektryczny                 68541 non-null  uint8  \n",
            " 12  fuel_type_Hybryda                     68541 non-null  uint8  \n",
            " 13  voivodeship_Anglia                    68541 non-null  uint8  \n",
            " 14  voivodeship_Berlin                    68541 non-null  uint8  \n",
            " 15  voivodeship_Brandenburg               68541 non-null  uint8  \n",
            " 16  voivodeship_Dolnośląskie              68541 non-null  uint8  \n",
            " 17  voivodeship_Hessen                    68541 non-null  uint8  \n",
            " 18  voivodeship_Jihomoravský kraj         68541 non-null  uint8  \n",
            " 19  voivodeship_Kujawsko-pomorskie        68541 non-null  uint8  \n",
            " 20  voivodeship_Lubelskie                 68541 non-null  uint8  \n",
            " 21  voivodeship_Lubuskie                  68541 non-null  uint8  \n",
            " 22  voivodeship_Mazowieckie               68541 non-null  uint8  \n",
            " 23  voivodeship_Małopolskie               68541 non-null  uint8  \n",
            " 24  voivodeship_Moravian-Silesian Region  68541 non-null  uint8  \n",
            " 25  voivodeship_Nordrhein-Westfalen       68541 non-null  uint8  \n",
            " 26  voivodeship_Opolskie                  68541 non-null  uint8  \n",
            " 27  voivodeship_Podkarpackie              68541 non-null  uint8  \n",
            " 28  voivodeship_Podlaskie                 68541 non-null  uint8  \n",
            " 29  voivodeship_Pomorskie                 68541 non-null  uint8  \n",
            " 30  voivodeship_Praga                     68541 non-null  uint8  \n",
            " 31  voivodeship_Rheinland-Pfalz           68541 non-null  uint8  \n",
            " 32  voivodeship_Warmińsko-mazurskie       68541 non-null  uint8  \n",
            " 33  voivodeship_Wielkopolskie             68541 non-null  uint8  \n",
            " 34  voivodeship_Zachodniopomorskie        68541 non-null  uint8  \n",
            " 35  voivodeship_Łódzkie                   68541 non-null  uint8  \n",
            " 36  voivodeship_Śląskie                   68541 non-null  uint8  \n",
            " 37  voivodeship_Świętokrzyskie            68541 non-null  uint8  \n",
            "dtypes: float64(3), int16(2), int8(2), uint8(31)\n",
            "memory usage: 4.5 MB\n"
          ]
        }
      ],
      "source": [
        "X_train.info()"
      ]
    },
    {
      "cell_type": "code",
      "execution_count": null,
      "metadata": {
        "colab": {
          "base_uri": "https://localhost:8080/"
        },
        "id": "CmGV8k2ET3pO",
        "outputId": "ecbf511b-61b4-44d9-e766-850f6e1647a3"
      },
      "outputs": [
        {
          "output_type": "stream",
          "name": "stdout",
          "text": [
            "[34.32490678  9.06706945  4.15031333  4.10603714  3.19469509  3.02189829\n",
            "  2.92950556  2.37246228  2.14996875  2.05822157  1.86341954  1.82874115\n",
            "  1.79565406  1.73403817  1.72534424  1.69250455  1.6685224   1.60587397\n",
            "  1.57667018  1.53334243  1.48312265  1.43001836  1.38443493  1.33626515\n",
            "  1.2852722   1.25992948  1.2002982   1.0991341   1.05968634  1.02788613\n",
            "  0.90683439  0.80932841  0.58233671  0.43105307  0.15368805  0.15152291]\n"
          ]
        }
      ],
      "source": [
        "#LDA\n",
        "#https://scikit-learn.org/stable/modules/generated/sklearn.discriminant_analysis.LinearDiscriminantAnalysis.html\n",
        "#https://www.kaggle.com/code/hbao12/machine-learning-linear-discriminant-analysis/notebook\n",
        "\n",
        "from sklearn.discriminant_analysis import LinearDiscriminantAnalysis as LDA\n",
        "\n",
        "lda = LDA(n_components=X_train.shape[1])  #n_components cannot be larger than min(n_features, n_classes - 1).\n",
        "\n",
        "model_lda = lda.fit(X_train, np.array(y_train).ravel())\n",
        "\n",
        "explainedVariance = model_lda.explained_variance_ratio_*100\n",
        "print(explainedVariance)"
      ]
    },
    {
      "cell_type": "code",
      "execution_count": null,
      "metadata": {
        "colab": {
          "base_uri": "https://localhost:8080/"
        },
        "id": "A9sioRb6T9dJ",
        "outputId": "7338cf70-f056-4fb0-f8ce-f826db8fa088"
      },
      "outputs": [
        {
          "output_type": "execute_result",
          "data": {
            "text/plain": [
              "array([0.34324907, 0.43391976, 0.4754229 , 0.51648327, 0.54843022,\n",
              "       0.5786492 , 0.60794426, 0.63166888, 0.65316857, 0.67375078,\n",
              "       0.69238498, 0.71067239, 0.72862893, 0.74596931, 0.76322275,\n",
              "       0.7801478 , 0.79683302, 0.81289176, 0.82865846, 0.84399189,\n",
              "       0.85882312, 0.8731233 , 0.88696765, 0.9003303 , 0.91318302,\n",
              "       0.92578232, 0.9377853 , 0.94877664, 0.9593735 , 0.96965236,\n",
              "       0.97872071, 0.98681399, 0.99263736, 0.99694789, 0.99848477,\n",
              "       1.        ])"
            ]
          },
          "metadata": {},
          "execution_count": 41
        }
      ],
      "source": [
        "cumsum= np.cumsum(model_lda.explained_variance_ratio_)\n",
        "cumsum"
      ]
    },
    {
      "cell_type": "code",
      "execution_count": null,
      "metadata": {
        "colab": {
          "base_uri": "https://localhost:8080/"
        },
        "id": "S5Q7ZZefUG_i",
        "outputId": "c96008d0-c173-4106-a166-c316cc063361"
      },
      "outputs": [
        {
          "output_type": "execute_result",
          "data": {
            "text/plain": [
              "29"
            ]
          },
          "metadata": {},
          "execution_count": 42
        }
      ],
      "source": [
        "d = np.argmax(cumsum >= 0.95) + 1\n",
        "d"
      ]
    },
    {
      "cell_type": "code",
      "execution_count": null,
      "metadata": {
        "colab": {
          "base_uri": "https://localhost:8080/",
          "height": 571
        },
        "id": "ggou1_UlULSh",
        "outputId": "1b4038ed-9422-4bc1-9a4b-59f46c21db2a"
      },
      "outputs": [
        {
          "output_type": "stream",
          "name": "stdout",
          "text": [
            "[0.34324907 0.43391976 0.4754229  0.51648327 0.54843022 0.5786492\n",
            " 0.60794426 0.63166888 0.65316857 0.67375078 0.69238498 0.71067239\n",
            " 0.72862893 0.74596931 0.76322275 0.7801478  0.79683302 0.81289176\n",
            " 0.82865846 0.84399189 0.85882312 0.8731233  0.88696765 0.9003303\n",
            " 0.91318302 0.92578232 0.9377853  0.94877664 0.9593735  0.96965236\n",
            " 0.97872071 0.98681399 0.99263736 0.99694789 0.99848477 1.        ]\n"
          ]
        },
        {
          "output_type": "execute_result",
          "data": {
            "text/plain": [
              "Text(0, 0.5, 'cumulative explained variance')"
            ]
          },
          "metadata": {},
          "execution_count": 43
        },
        {
          "output_type": "display_data",
          "data": {
            "text/plain": [
              "<Figure size 640x480 with 1 Axes>"
            ],
            "image/png": "[encoded data removed]"
          },
          "metadata": {}
        }
      ],
      "source": [
        "print(lda.explained_variance_ratio_.cumsum())\n",
        "\n",
        "plt.plot(lda.explained_variance_ratio_.cumsum())\n",
        "plt.xlabel('number of components')\n",
        "plt.ylabel('cumulative explained variance')"
      ]
    },
    {
      "cell_type": "code",
      "execution_count": null,
      "metadata": {
        "colab": {
          "base_uri": "https://localhost:8080/"
        },
        "id": "pgxb-RRJUQed",
        "outputId": "c44f2ab9-d394-46f3-9674-3226a4a1fe76"
      },
      "outputs": [
        {
          "output_type": "stream",
          "name": "stdout",
          "text": [
            "Numero de Componentes:  1  Variância acumulada:  34.32490677573482\n",
            "Numero de Componentes:  2  Variância acumulada:  43.391976230294276\n",
            "Numero de Componentes:  3  Variância acumulada:  47.54228955711074\n",
            "Numero de Componentes:  4  Variância acumulada:  51.64832670009991\n",
            "Numero de Componentes:  5  Variância acumulada:  54.84302178589057\n",
            "Numero de Componentes:  6  Variância acumulada:  57.864920074377544\n",
            "Numero de Componentes:  7  Variância acumulada:  60.794425632081925\n",
            "Numero de Componentes:  8  Variância acumulada:  63.16688791296018\n",
            "Numero de Componentes:  9  Variância acumulada:  65.316856663144\n",
            "Numero de Componentes:  10  Variância acumulada:  67.37507823155342\n",
            "Numero de Componentes:  11  Variância acumulada:  69.23849777202729\n",
            "Numero de Componentes:  12  Variância acumulada:  71.06723891963672\n",
            "Numero de Componentes:  13  Variância acumulada:  72.86289298068722\n",
            "Numero de Componentes:  14  Variância acumulada:  74.59693114978498\n",
            "Numero de Componentes:  15  Variância acumulada:  76.32227538935886\n",
            "Numero de Componentes:  16  Variância acumulada:  78.01477994072204\n",
            "Numero de Componentes:  17  Variância acumulada:  79.6833023440374\n",
            "Numero de Componentes:  18  Variância acumulada:  81.28917630924943\n",
            "Numero de Componentes:  19  Variância acumulada:  82.8658464920942\n",
            "Numero de Componentes:  20  Variância acumulada:  84.39918891926075\n",
            "Numero de Componentes:  21  Variância acumulada:  85.88231156621701\n",
            "Numero de Componentes:  22  Variância acumulada:  87.31232992771362\n",
            "Numero de Componentes:  23  Variância acumulada:  88.6967648576041\n",
            "Numero de Componentes:  24  Variância acumulada:  90.03303001225177\n",
            "Numero de Componentes:  25  Variância acumulada:  91.3183022116596\n",
            "Numero de Componentes:  26  Variância acumulada:  92.57823169098866\n",
            "Numero de Componentes:  27  Variância acumulada:  93.77852989273023\n",
            "Numero de Componentes:  28  Variância acumulada:  94.87766399256293\n",
            "Numero de Componentes:  29  Variância acumulada:  95.93735033354308\n",
            "Numero de Componentes:  30  Variância acumulada:  96.96523646354102\n",
            "Numero de Componentes:  31  Variância acumulada:  97.87207084917235\n",
            "Numero de Componentes:  32  Variância acumulada:  98.68139926276861\n",
            "Numero de Componentes:  33  Variância acumulada:  99.26373596958265\n",
            "Numero de Componentes:  34  Variância acumulada:  99.69478903864648\n",
            "Numero de Componentes:  35  Variância acumulada:  99.8484770907607\n"
          ]
        }
      ],
      "source": [
        "sm = 0\n",
        "no_components = 0\n",
        "for k in range(0, explainedVariance.shape[0]-1):\n",
        "    sm = sm+explainedVariance[k]\n",
        "    no_components= no_components+1\n",
        "    print('Numero de Componentes: ', no_components, ' Variância acumulada: ', sm)"
      ]
    },
    {
      "cell_type": "code",
      "execution_count": null,
      "metadata": {
        "colab": {
          "base_uri": "https://localhost:8080/"
        },
        "id": "M10Mlnz2UUhV",
        "outputId": "54ed948a-224a-4c6b-dc52-6659efa9eb46"
      },
      "outputs": [
        {
          "output_type": "execute_result",
          "data": {
            "text/plain": [
              "(36,)"
            ]
          },
          "metadata": {},
          "execution_count": 45
        }
      ],
      "source": [
        "explainedVariance.shape"
      ]
    },
    {
      "cell_type": "code",
      "execution_count": null,
      "metadata": {
        "id": "VpK7i1B2UXiw"
      },
      "outputs": [],
      "source": [
        "from sklearn.discriminant_analysis import LinearDiscriminantAnalysis as LDA\n",
        "\n",
        "lda = LDA(n_components=d)\n",
        "\n",
        "model_lda = lda.fit(X_train, np.array(y_train).ravel())\n",
        "\n",
        "X_train_reduced = model_lda.transform(X_train)\n",
        "\n",
        "X_test_reduced = model_lda.transform(X_test)"
      ]
    },
    {
      "cell_type": "code",
      "execution_count": null,
      "metadata": {
        "colab": {
          "base_uri": "https://localhost:8080/"
        },
        "id": "k-BYFolBUb3j",
        "outputId": "cd661261-c2a5-465b-b034-684589648a74"
      },
      "outputs": [
        {
          "output_type": "stream",
          "name": "stdout",
          "text": [
            "[0.34324907 0.09067069 0.04150313 0.04106037 0.03194695 0.03021898\n",
            " 0.02929506 0.02372462 0.02149969 0.02058222 0.0186342  0.01828741\n",
            " 0.01795654 0.01734038 0.01725344 0.01692505 0.01668522 0.01605874\n",
            " 0.0157667  0.01533342 0.01483123 0.01430018 0.01384435 0.01336265\n",
            " 0.01285272 0.01259929 0.01200298 0.01099134 0.01059686]\n"
          ]
        }
      ],
      "source": [
        "#calcular a taxa de variancia explicada\n",
        "var_ratio = lda.explained_variance_ratio_\n",
        "print(var_ratio)"
      ]
    },
    {
      "cell_type": "code",
      "execution_count": null,
      "metadata": {
        "id": "rtoOoV1wUslL"
      },
      "outputs": [],
      "source": [
        "#biblioteca para gerar o modelo\n",
        "from sklearn.ensemble import RandomForestClassifier"
      ]
    },
    {
      "cell_type": "code",
      "execution_count": null,
      "metadata": {
        "id": "9uigwa5mU3Uv"
      },
      "outputs": [],
      "source": [
        "from sklearn.model_selection import GridSearchCV\n",
        "\n",
        "def rf_param_selection(features, labels, kfolds):\n",
        "\n",
        "    N_estimators  = [10, 100, 500, 1000]        #nr. de arvores na floresta\n",
        "    Max_depths    = [15, 30,  50,  100 ]   #profundidade das arvores\n",
        "\n",
        "    param_grid = {'n_estimators': N_estimators, 'max_depth' : Max_depths}\n",
        "\n",
        "\n",
        "    grid_search = GridSearchCV(RandomForestClassifier(), param_grid, cv=kfolds)\n",
        "    grid_search.fit(features, labels)\n",
        "    best_params = grid_search.best_params_\n",
        "\n",
        "    return best_params"
      ]
    },
    {
      "cell_type": "code",
      "execution_count": null,
      "metadata": {
        "id": "MU79fS6eU4_1"
      },
      "outputs": [],
      "source": [
        "best_params = rf_param_selection(X_train_reduced, np.array(y_train).ravel(), 5)"
      ]
    },
    {
      "cell_type": "code",
      "source": [
        "### criar o modelo Radom Forest\n",
        "from sklearn.ensemble import RandomForestRegressor\n",
        "\n",
        "#model_forest = RandomForestRegressor(random_state = 0)\n",
        "model_forest = RandomForestRegressor(n_estimators = 1000, max_depth = 15, random_state = 0)\n",
        "model_forest.fit(X_train_reduced, np.array(y_train).ravel())"
      ],
      "metadata": {
        "colab": {
          "base_uri": "https://localhost:8080/",
          "height": 75
        },
        "id": "GNZC7OOkCXyx",
        "outputId": "258e3618-07f2-4ea7-a39a-f1439281bb72"
      },
      "execution_count": null,
      "outputs": [
        {
          "output_type": "execute_result",
          "data": {
            "text/plain": [
              "RandomForestRegressor(max_depth=15, n_estimators=1000, random_state=0)"
            ],
            "text/html": [
              "<style>#sk-container-id-1 {color: black;background-color: white;}#sk-container-id-1 pre{padding: 0;}#sk-container-id-1 div.sk-toggleable {background-color: white;}#sk-container-id-1 label.sk-toggleable__label {cursor: pointer;display: block;width: 100%;margin-bottom: 0;padding: 0.3em;box-sizing: border-box;text-align: center;}#sk-container-id-1 label.sk-toggleable__label-arrow:before {content: \"▸\";float: left;margin-right: 0.25em;color: #696969;}#sk-container-id-1 label.sk-toggleable__label-arrow:hover:before {color: black;}#sk-container-id-1 div.sk-estimator:hover label.sk-toggleable__label-arrow:before {color: black;}#sk-container-id-1 div.sk-toggleable__content {max-height: 0;max-width: 0;overflow: hidden;text-align: left;background-color: #f0f8ff;}#sk-container-id-1 div.sk-toggleable__content pre {margin: 0.2em;color: black;border-radius: 0.25em;background-color: #f0f8ff;}#sk-container-id-1 input.sk-toggleable__control:checked~div.sk-toggleable__content {max-height: 200px;max-width: 100%;overflow: auto;}#sk-container-id-1 input.sk-toggleable__control:checked~label.sk-toggleable__label-arrow:before {content: \"▾\";}#sk-container-id-1 div.sk-estimator input.sk-toggleable__control:checked~label.sk-toggleable__label {background-color: #d4ebff;}#sk-container-id-1 div.sk-label input.sk-toggleable__control:checked~label.sk-toggleable__label {background-color: #d4ebff;}#sk-container-id-1 input.sk-hidden--visually {border: 0;clip: rect(1px 1px 1px 1px);clip: rect(1px, 1px, 1px, 1px);height: 1px;margin: -1px;overflow: hidden;padding: 0;position: absolute;width: 1px;}#sk-container-id-1 div.sk-estimator {font-family: monospace;background-color: #f0f8ff;border: 1px dotted black;border-radius: 0.25em;box-sizing: border-box;margin-bottom: 0.5em;}#sk-container-id-1 div.sk-estimator:hover {background-color: #d4ebff;}#sk-container-id-1 div.sk-parallel-item::after {content: \"\";width: 100%;border-bottom: 1px solid gray;flex-grow: 1;}#sk-container-id-1 div.sk-label:hover label.sk-toggleable__label {background-color: #d4ebff;}#sk-container-id-1 div.sk-serial::before {content: \"\";position: absolute;border-left: 1px solid gray;box-sizing: border-box;top: 0;bottom: 0;left: 50%;z-index: 0;}#sk-container-id-1 div.sk-serial {display: flex;flex-direction: column;align-items: center;background-color: white;padding-right: 0.2em;padding-left: 0.2em;position: relative;}#sk-container-id-1 div.sk-item {position: relative;z-index: 1;}#sk-container-id-1 div.sk-parallel {display: flex;align-items: stretch;justify-content: center;background-color: white;position: relative;}#sk-container-id-1 div.sk-item::before, #sk-container-id-1 div.sk-parallel-item::before {content: \"\";position: absolute;border-left: 1px solid gray;box-sizing: border-box;top: 0;bottom: 0;left: 50%;z-index: -1;}#sk-container-id-1 div.sk-parallel-item {display: flex;flex-direction: column;z-index: 1;position: relative;background-color: white;}#sk-container-id-1 div.sk-parallel-item:first-child::after {align-self: flex-end;width: 50%;}#sk-container-id-1 div.sk-parallel-item:last-child::after {align-self: flex-start;width: 50%;}#sk-container-id-1 div.sk-parallel-item:only-child::after {width: 0;}#sk-container-id-1 div.sk-dashed-wrapped {border: 1px dashed gray;margin: 0 0.4em 0.5em 0.4em;box-sizing: border-box;padding-bottom: 0.4em;background-color: white;}#sk-container-id-1 div.sk-label label {font-family: monospace;font-weight: bold;display: inline-block;line-height: 1.2em;}#sk-container-id-1 div.sk-label-container {text-align: center;}#sk-container-id-1 div.sk-container {/* jupyter's `normalize.less` sets `[hidden] { display: none; }` but bootstrap.min.css set `[hidden] { display: none !important; }` so we also need the `!important` here to be able to override the default hidden behavior on the sphinx rendered scikit-learn.org. See: https://github.com/scikit-learn/scikit-learn/issues/21755 */display: inline-block !important;position: relative;}#sk-container-id-1 div.sk-text-repr-fallback {display: none;}</style><div id=\"sk-container-id-1\" class=\"sk-top-container\"><div class=\"sk-text-repr-fallback\"><pre>RandomForestRegressor(max_depth=15, n_estimators=1000, random_state=0)</pre><b>In a Jupyter environment, please rerun this cell to show the HTML representation or trust the notebook. <br />On GitHub, the HTML representation is unable to render, please try loading this page with nbviewer.org.</b></div><div class=\"sk-container\" hidden><div class=\"sk-item\"><div class=\"sk-estimator sk-toggleable\"><input class=\"sk-toggleable__control sk-hidden--visually\" id=\"sk-estimator-id-1\" type=\"checkbox\" checked><label for=\"sk-estimator-id-1\" class=\"sk-toggleable__label sk-toggleable__label-arrow\">RandomForestRegressor</label><div class=\"sk-toggleable__content\"><pre>RandomForestRegressor(max_depth=15, n_estimators=1000, random_state=0)</pre></div></div></div></div></div>"
            ]
          },
          "metadata": {},
          "execution_count": 52
        }
      ]
    },
    {
      "cell_type": "code",
      "source": [
        "{'max_depth': 15, 'n_estimators': 1000}"
      ],
      "metadata": {
        "id": "9koWQKfaLOdj"
      },
      "execution_count": null,
      "outputs": []
    },
    {
      "cell_type": "code",
      "source": [
        "y_pred_train = model_forest.predict(X_train_reduced)"
      ],
      "metadata": {
        "id": "_4hpryh0UDvy"
      },
      "execution_count": null,
      "outputs": []
    },
    {
      "cell_type": "code",
      "source": [
        "y_pred_test = model_forest.predict(X_test_reduced)"
      ],
      "metadata": {
        "id": "G9viHMfnUMxB"
      },
      "execution_count": null,
      "outputs": []
    },
    {
      "cell_type": "code",
      "source": [
        "from sklearn.metrics import mean_squared_error\n",
        "\n",
        "score = model_forest.score(X_train_reduced, y_train)\n",
        "print(\"R2 do Treinamento:\", score)\n",
        "\n",
        "#y_train = scaleY.inverse_transform(y_train.reshape(-1,1))            #convert 1d array to 2d array\n",
        "#y_pred_train = scaleY.inverse_transform(y_pred_train.reshape(-1,1))  #convert 1d array to 2d array\n",
        "\n",
        "print(\"RMSE do Trainamento:\", np.sqrt(mean_squared_error(y_pred_train, y_train)))"
      ],
      "metadata": {
        "colab": {
          "base_uri": "https://localhost:8080/"
        },
        "id": "PHAn6Ry_UPl7",
        "outputId": "3a73ce59-1003-47d6-9110-5bb7a5bce5be"
      },
      "execution_count": null,
      "outputs": [
        {
          "output_type": "stream",
          "name": "stdout",
          "text": [
            "R2 do Treinamento: 0.8386846819459359\n",
            "RMSE do Trainamento: 40065.30201024773\n"
          ]
        }
      ]
    },
    {
      "cell_type": "code",
      "source": [
        "score = model_forest.score(X_test_reduced, y_test)\n",
        "print(\"R2 do Teste  :\", score)\n",
        "\n",
        "#y_test = scaleY.inverse_transform(y_test.reshape(-1,1))\n",
        "#y_pred_test = scaleY.inverse_transform(y_pred_test.reshape(-1,1))\n",
        "\n",
        "print(\"RMSE do Teste:\", np.sqrt(mean_squared_error(y_pred_test, y_test)))"
      ],
      "metadata": {
        "colab": {
          "base_uri": "https://localhost:8080/"
        },
        "id": "evv6olzxUWt0",
        "outputId": "265bd82a-ae16-465d-ceed-8b202bc60ea3"
      },
      "execution_count": null,
      "outputs": [
        {
          "output_type": "stream",
          "name": "stdout",
          "text": [
            "R2 do Teste  : 0.5894655441716209\n",
            "RMSE do Teste: 65697.61529740806\n"
          ]
        }
      ]
    }
  ],
  "metadata": {
    "colab": {
      "provenance": [],
      "authorship_tag": "ABX9TyORQ3zCfttHJch5GGnqGcab",
      "include_colab_link": true
    },
    "kernelspec": {
      "display_name": "Python 3",
      "name": "python3"
    },
    "language_info": {
      "name": "python"
    }
  },
  "nbformat": 4,
  "nbformat_minor": 0
}