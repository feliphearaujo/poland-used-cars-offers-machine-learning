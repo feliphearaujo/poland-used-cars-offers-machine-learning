{
  "nbformat": 4,
  "nbformat_minor": 0,
  "metadata": {
    "colab": {
      "provenance": [],
      "authorship_tag": "ABX9TyNEfgynOfrHfwJ1mF7on8+h",
      "include_colab_link": true
    },
    "kernelspec": {
      "name": "python3",
      "display_name": "Python 3"
    },
    "language_info": {
      "name": "python"
    }
  },
  "cells": [
    {
      "cell_type": "markdown",
      "metadata": {
        "id": "view-in-github",
        "colab_type": "text"
      },
      "source": [
        "<a href=\"https://colab.research.google.com/github/feliphearaujo/poland-used-cars-offers-machine-learning/blob/main/poland_used_cars_offers_with_Univariate_Feature_Selection.ipynb\" target=\"_parent\"><img src=\"https://colab.research.google.com/assets/colab-badge.svg\" alt=\"Open In Colab\"/></a>"
      ]
    },
    {
      "cell_type": "code",
      "execution_count": 1,
      "metadata": {
        "id": "zedIHuUzNNre"
      },
      "outputs": [],
      "source": [
        "#import libraries\n",
        "import pandas as pd\n",
        "import numpy as np\n",
        "\n",
        "import seaborn as sns\n",
        "import matplotlib.pyplot as plt\n",
        "\n",
        "from sklearn.preprocessing import StandardScaler\n",
        "from sklearn.model_selection import train_test_split"
      ]
    },
    {
      "cell_type": "code",
      "source": [
        "url=\"https://github.com/feliphearaujo/poland-used-cars-offers-machine-learning/blob/main/dataset/data.csv?raw=true\"\n",
        "df = pd.read_csv(url, sep = \",\")"
      ],
      "metadata": {
        "id": "cZyJeZbrOEqC"
      },
      "execution_count": 2,
      "outputs": []
    },
    {
      "cell_type": "code",
      "source": [
        "valor_especifico = 'km'\n",
        "df = df[~df['year'].str.contains(valor_especifico)]\n",
        "\n",
        "# Exibindo o DataFrame após a eliminação das linhas\n",
        "print(\"\\nDataFrame após a eliminação das linhas:\")\n",
        "print(df)"
      ],
      "metadata": {
        "id": "jxgWfxDVOMG0"
      },
      "execution_count": null,
      "outputs": []
    },
    {
      "cell_type": "code",
      "source": [
        "valor_especifico = 'cm'\n",
        "df = df[~df['year'].str.contains(valor_especifico)]\n",
        "\n",
        "# Exibindo o DataFrame após a eliminação das linhas\n",
        "print(\"\\nDataFrame após a eliminação das linhas:\")\n",
        "print(df)"
      ],
      "metadata": {
        "id": "17MmlAGqOP43"
      },
      "execution_count": null,
      "outputs": []
    },
    {
      "cell_type": "code",
      "source": [
        "valor_especifico = 'Elektryczny'\n",
        "df = df[~df['year'].str.contains(valor_especifico)]\n",
        "\n",
        "# Exibindo o DataFrame após a eliminação das linhas\n",
        "print(\"\\nDataFrame após a eliminação das linhas:\")\n",
        "print(df)"
      ],
      "metadata": {
        "id": "bwDtndS4OSlX"
      },
      "execution_count": null,
      "outputs": []
    },
    {
      "cell_type": "code",
      "source": [
        "valor_especifico = 'Benzyna'\n",
        "df = df[~df['year'].str.contains(valor_especifico)]\n",
        "\n",
        "# Exibindo o DataFrame após a eliminação das linhas\n",
        "print(\"\\nDataFrame após a eliminação das linhas:\")\n",
        "print(df)"
      ],
      "metadata": {
        "id": "CMTAjbUOOVcg"
      },
      "execution_count": null,
      "outputs": []
    },
    {
      "cell_type": "code",
      "source": [
        "valor_especifico = 'Diesel'\n",
        "df = df[~df['year'].str.contains(valor_especifico)]\n",
        "\n",
        "# Exibindo o DataFrame após a eliminação das linhas\n",
        "print(\"\\nDataFrame após a eliminação das linhas:\")\n",
        "print(df)"
      ],
      "metadata": {
        "id": "ulieIWCmOcNC"
      },
      "execution_count": null,
      "outputs": []
    },
    {
      "cell_type": "code",
      "source": [
        "valor_especifico = 'Hybryda'\n",
        "df = df[~df['year'].str.contains(valor_especifico)]\n",
        "\n",
        "# Exibindo o DataFrame após a eliminação das linhas\n",
        "print(\"\\nDataFrame após a eliminação das linhas:\")\n",
        "print(df)"
      ],
      "metadata": {
        "id": "CtOmlWQxOfW7"
      },
      "execution_count": null,
      "outputs": []
    },
    {
      "cell_type": "code",
      "source": [
        "opcoes_unicas = df['year'].unique()\n",
        "print(opcoes_unicas)\n",
        "\n",
        "contagem_opcoes = df['year'].value_counts()\n",
        "print(contagem_opcoes)"
      ],
      "metadata": {
        "id": "3gMfvb-0Oh4X"
      },
      "execution_count": null,
      "outputs": []
    },
    {
      "cell_type": "code",
      "source": [
        "df['year'] = df['year'].astype(float)"
      ],
      "metadata": {
        "id": "Mpy3Tj-wOmwp"
      },
      "execution_count": 10,
      "outputs": []
    },
    {
      "cell_type": "code",
      "source": [
        "opcoes_unicas = df['engine_capacity'].unique()\n",
        "print(opcoes_unicas)\n",
        "\n",
        "contagem_opcoes = df['engine_capacity'].value_counts()\n",
        "print(contagem_opcoes)"
      ],
      "metadata": {
        "id": "vJpVmBIdOnrn"
      },
      "execution_count": null,
      "outputs": []
    },
    {
      "cell_type": "code",
      "source": [
        "valor_especifico = 'cm3'\n",
        "df = df[df['engine_capacity'].str.contains(valor_especifico)]"
      ],
      "metadata": {
        "id": "fytrycc1OqsB"
      },
      "execution_count": 12,
      "outputs": []
    },
    {
      "cell_type": "code",
      "source": [
        "df['engine_capacity'] = df['engine_capacity'].str.replace(' cm3', '')\n",
        "\n",
        "# Exibindo o DataFrame com \"cm3\" removido\n",
        "print(\"\\nDataFrame com 'cm3' removido:\")\n",
        "print(df)"
      ],
      "metadata": {
        "id": "dSE_MtyEOtvJ"
      },
      "execution_count": null,
      "outputs": []
    },
    {
      "cell_type": "code",
      "source": [
        "df['engine_capacity'] = df['engine_capacity'].str.replace(' ', '')\n",
        "\n",
        "# Exibindo o DataFrame com \" \" removido\n",
        "print(\"\\nDataFrame com ' ' removido:\")\n",
        "print(df)"
      ],
      "metadata": {
        "id": "R4fqOLSKOwUH"
      },
      "execution_count": null,
      "outputs": []
    },
    {
      "cell_type": "code",
      "source": [
        "df['engine_capacity'] = df['engine_capacity'].astype(float)"
      ],
      "metadata": {
        "id": "NENp438QOy0k"
      },
      "execution_count": 15,
      "outputs": []
    },
    {
      "cell_type": "code",
      "source": [
        "\n",
        "df[\"gearbox\"] = df[\"gearbox\"].astype('category')\n",
        "df['gearbox'] = df['gearbox'].cat.codes"
      ],
      "metadata": {
        "id": "eZG66RINO09W"
      },
      "execution_count": 16,
      "outputs": []
    },
    {
      "cell_type": "code",
      "source": [
        "opcoes_unicas = df['brand'].unique()\n",
        "print(opcoes_unicas)\n",
        "\n",
        "contagem_opcoes = df['brand'].value_counts()\n",
        "print(contagem_opcoes)"
      ],
      "metadata": {
        "id": "vQ76gOIsO3wl"
      },
      "execution_count": null,
      "outputs": []
    },
    {
      "cell_type": "code",
      "source": [
        "df[\"brand\"] = df[\"brand\"].astype('category')\n",
        "df['brand'] = df['brand'].cat.codes"
      ],
      "metadata": {
        "id": "Po2ckTvjO7rR"
      },
      "execution_count": 18,
      "outputs": []
    },
    {
      "cell_type": "code",
      "source": [
        "opcoes_unicas = df['model'].unique()\n",
        "print(opcoes_unicas)\n",
        "\n",
        "contagem_opcoes = df['model'].value_counts()\n",
        "print(contagem_opcoes)"
      ],
      "metadata": {
        "id": "Ux5XN7oYO-a3"
      },
      "execution_count": null,
      "outputs": []
    },
    {
      "cell_type": "code",
      "source": [
        "df[\"model\"] = df[\"model\"].astype('category')\n",
        "df['model'] = df['model'].cat.codes"
      ],
      "metadata": {
        "id": "SNbn8GFdPOTh"
      },
      "execution_count": 20,
      "outputs": []
    },
    {
      "cell_type": "code",
      "source": [
        "opcoes_unicas = df['mileage'].unique()\n",
        "print(opcoes_unicas)\n",
        "\n",
        "contagem_opcoes = df['mileage'].value_counts()\n",
        "print(contagem_opcoes)"
      ],
      "metadata": {
        "id": "y_UyTFs0PQm3"
      },
      "execution_count": null,
      "outputs": []
    },
    {
      "cell_type": "code",
      "source": [
        "valor_especifico = 'km'\n",
        "df = df[df['mileage'].str.contains(valor_especifico)]"
      ],
      "metadata": {
        "id": "zv8aEujKPTKP"
      },
      "execution_count": 22,
      "outputs": []
    },
    {
      "cell_type": "code",
      "source": [
        "df['mileage'] = df['mileage'].str.replace(' km', '')\n",
        "\n",
        "# Exibindo o DataFrame com \"cm3\" removido\n",
        "print(\"\\nDataFrame com 'cm3' removido:\")\n",
        "print(df)"
      ],
      "metadata": {
        "id": "Yi8Buo2SPVVY"
      },
      "execution_count": null,
      "outputs": []
    },
    {
      "cell_type": "code",
      "source": [
        "df['mileage'] = df['mileage'].str.replace(' ', '')\n",
        "\n",
        "# Exibindo o DataFrame com \" \" removido\n",
        "print(\"\\nDataFrame com ' ' removido:\")\n",
        "print(df)"
      ],
      "metadata": {
        "id": "vMdAKQXDPYKP"
      },
      "execution_count": null,
      "outputs": []
    },
    {
      "cell_type": "code",
      "source": [
        "df['mileage'] = df['mileage'].astype(float)"
      ],
      "metadata": {
        "id": "DuJg4peKPa8P"
      },
      "execution_count": 25,
      "outputs": []
    },
    {
      "cell_type": "code",
      "source": [
        "opcoes_unicas = df['fuel_type'].unique()\n",
        "print(opcoes_unicas)\n",
        "\n",
        "contagem_opcoes = df['fuel_type'].value_counts()\n",
        "print(contagem_opcoes)"
      ],
      "metadata": {
        "id": "l4gKiBzNPdTR"
      },
      "execution_count": null,
      "outputs": []
    },
    {
      "cell_type": "code",
      "source": [
        "coluna_fuel_type = df['fuel_type']\n",
        "\n",
        "# Aplicando o get_dummies na coluna 'frutas'\n",
        "dummies_fuel_type = pd.get_dummies(coluna_fuel_type, prefix='fuel_type')\n",
        "\n",
        "# Concatenando as colunas binárias ao DataFrame original\n",
        "df = pd.concat([df, dummies_fuel_type], axis=1)\n",
        "\n",
        "# Exibindo o resultado\n",
        "print(df)"
      ],
      "metadata": {
        "id": "-ydx9ZUWPgv5"
      },
      "execution_count": null,
      "outputs": []
    },
    {
      "cell_type": "code",
      "source": [
        "df = df.drop('fuel_type', axis=1)"
      ],
      "metadata": {
        "id": "r2DdQ2-yPkBD"
      },
      "execution_count": 28,
      "outputs": []
    },
    {
      "cell_type": "code",
      "source": [
        "opcoes_unicas = df['city'].unique()\n",
        "print(opcoes_unicas)\n",
        "\n",
        "contagem_opcoes = df['city'].value_counts()\n",
        "print(contagem_opcoes)"
      ],
      "metadata": {
        "id": "rSMm6H6nPnFn"
      },
      "execution_count": null,
      "outputs": []
    },
    {
      "cell_type": "code",
      "source": [
        "df[\"city\"] = df[\"city\"].astype('category')\n",
        "df['city'] = df['city'].cat.codes"
      ],
      "metadata": {
        "id": "SG9qdFLpPpjL"
      },
      "execution_count": 30,
      "outputs": []
    },
    {
      "cell_type": "code",
      "source": [
        "opcoes_unicas = df['voivodeship'].unique()\n",
        "print(opcoes_unicas)\n",
        "\n",
        "contagem_opcoes = df['voivodeship'].value_counts()\n",
        "print(contagem_opcoes)"
      ],
      "metadata": {
        "id": "Sg8Ci-iFPr3j"
      },
      "execution_count": null,
      "outputs": []
    },
    {
      "cell_type": "code",
      "source": [
        "coluna_fuel_type = df['voivodeship']\n",
        "\n",
        "# Aplicando o get_dummies na coluna 'frutas'\n",
        "dummies_fuel_type = pd.get_dummies(coluna_fuel_type, prefix='voivodeship')\n",
        "\n",
        "# Concatenando as colunas binárias ao DataFrame original\n",
        "df = pd.concat([df, dummies_fuel_type], axis=1)\n",
        "\n",
        "# Exibindo o resultado\n",
        "print(df)"
      ],
      "metadata": {
        "id": "xUeWL_5SPvMn"
      },
      "execution_count": null,
      "outputs": []
    },
    {
      "cell_type": "code",
      "source": [
        "df = df.drop('voivodeship', axis=1)"
      ],
      "metadata": {
        "id": "ZHlDJcnRPymZ"
      },
      "execution_count": 33,
      "outputs": []
    },
    {
      "cell_type": "code",
      "source": [
        "correlation = df.corr()['price_in_pln']\n",
        "\n",
        "# Exibindo o resultado\n",
        "print(correlation)"
      ],
      "metadata": {
        "id": "gWw7oE10P1XR"
      },
      "execution_count": null,
      "outputs": []
    },
    {
      "cell_type": "code",
      "source": [
        "X = df.copy()\n",
        "X  = X.drop(['price_in_pln'], axis=1) #remove a variável dependente do X\n",
        "y = df[['price_in_pln']]"
      ],
      "metadata": {
        "id": "3y_dFSEhTuWG"
      },
      "execution_count": 35,
      "outputs": []
    },
    {
      "cell_type": "code",
      "source": [
        "#https://medium.com/analytics-vidhya/feature-selection-using-scikit-learn-5b4362e0c19b\n",
        "\n",
        "from sklearn.feature_selection import SelectKBest, chi2\n",
        "X_5_best= SelectKBest(chi2, k=5).fit(X_train, y_train)\n",
        "mask = X_5_best.get_support() #list of booleans for selected features\n",
        "cols = []\n",
        "for bool, feature in zip(mask, X_train.columns):\n",
        "  if bool:\n",
        "    cols.append(feature)\n",
        "print('The best features are:{}'.format(cols)) # The list of your 5 best features"
      ],
      "metadata": {
        "colab": {
          "base_uri": "https://localhost:8080/"
        },
        "id": "Gwt70haVVpA0",
        "outputId": "7cde548f-2991-4f70-c595-026edbd37bd3"
      },
      "execution_count": 37,
      "outputs": [
        {
          "output_type": "stream",
          "name": "stdout",
          "text": [
            "The best features are:['brand', 'model', 'mileage', 'engine_capacity', 'city']\n"
          ]
        }
      ]
    },
    {
      "cell_type": "code",
      "source": [
        "cols"
      ],
      "metadata": {
        "id": "27LxunTiVyo6"
      },
      "execution_count": null,
      "outputs": []
    },
    {
      "cell_type": "code",
      "source": [
        "cols_RFECV = cols\n",
        "cols_full = df.columns"
      ],
      "metadata": {
        "id": "mv_rTjRVV7lA"
      },
      "execution_count": 40,
      "outputs": []
    },
    {
      "cell_type": "code",
      "source": [
        "X = df[cols_RFECV] #slice no dataframe e retorna dataframe\n",
        "y = df[[\"price_in_pln\"]]"
      ],
      "metadata": {
        "id": "X_QRR-C6V8Ww"
      },
      "execution_count": 41,
      "outputs": []
    },
    {
      "cell_type": "code",
      "source": [
        "from sklearn.model_selection import train_test_split\n",
        "\n",
        "X_train, X_test, y_train, y_test = train_test_split(X, y, test_size = 0.2, random_state = 0)"
      ],
      "metadata": {
        "id": "r71q0J8hWCkP"
      },
      "execution_count": 42,
      "outputs": []
    },
    {
      "cell_type": "code",
      "source": [
        "### criar o modelo Radom Forest\n",
        "from sklearn.ensemble import RandomForestRegressor\n",
        "\n",
        "#model_forest = RandomForestRegressor(random_state = 0)\n",
        "model_forest = RandomForestRegressor(n_estimators = 1000, max_depth = 15, random_state = 0)\n",
        "model_forest.fit(X_train, np.array(y_train).ravel())"
      ],
      "metadata": {
        "colab": {
          "base_uri": "https://localhost:8080/",
          "height": 75
        },
        "id": "kYJf0WwMWIXS",
        "outputId": "17f1db75-dc04-42c4-8ce3-0143209c37ce"
      },
      "execution_count": 43,
      "outputs": [
        {
          "output_type": "execute_result",
          "data": {
            "text/plain": [
              "RandomForestRegressor(max_depth=15, n_estimators=1000, random_state=0)"
            ],
            "text/html": [
              "<style>#sk-container-id-1 {color: black;background-color: white;}#sk-container-id-1 pre{padding: 0;}#sk-container-id-1 div.sk-toggleable {background-color: white;}#sk-container-id-1 label.sk-toggleable__label {cursor: pointer;display: block;width: 100%;margin-bottom: 0;padding: 0.3em;box-sizing: border-box;text-align: center;}#sk-container-id-1 label.sk-toggleable__label-arrow:before {content: \"▸\";float: left;margin-right: 0.25em;color: #696969;}#sk-container-id-1 label.sk-toggleable__label-arrow:hover:before {color: black;}#sk-container-id-1 div.sk-estimator:hover label.sk-toggleable__label-arrow:before {color: black;}#sk-container-id-1 div.sk-toggleable__content {max-height: 0;max-width: 0;overflow: hidden;text-align: left;background-color: #f0f8ff;}#sk-container-id-1 div.sk-toggleable__content pre {margin: 0.2em;color: black;border-radius: 0.25em;background-color: #f0f8ff;}#sk-container-id-1 input.sk-toggleable__control:checked~div.sk-toggleable__content {max-height: 200px;max-width: 100%;overflow: auto;}#sk-container-id-1 input.sk-toggleable__control:checked~label.sk-toggleable__label-arrow:before {content: \"▾\";}#sk-container-id-1 div.sk-estimator input.sk-toggleable__control:checked~label.sk-toggleable__label {background-color: #d4ebff;}#sk-container-id-1 div.sk-label input.sk-toggleable__control:checked~label.sk-toggleable__label {background-color: #d4ebff;}#sk-container-id-1 input.sk-hidden--visually {border: 0;clip: rect(1px 1px 1px 1px);clip: rect(1px, 1px, 1px, 1px);height: 1px;margin: -1px;overflow: hidden;padding: 0;position: absolute;width: 1px;}#sk-container-id-1 div.sk-estimator {font-family: monospace;background-color: #f0f8ff;border: 1px dotted black;border-radius: 0.25em;box-sizing: border-box;margin-bottom: 0.5em;}#sk-container-id-1 div.sk-estimator:hover {background-color: #d4ebff;}#sk-container-id-1 div.sk-parallel-item::after {content: \"\";width: 100%;border-bottom: 1px solid gray;flex-grow: 1;}#sk-container-id-1 div.sk-label:hover label.sk-toggleable__label {background-color: #d4ebff;}#sk-container-id-1 div.sk-serial::before {content: \"\";position: absolute;border-left: 1px solid gray;box-sizing: border-box;top: 0;bottom: 0;left: 50%;z-index: 0;}#sk-container-id-1 div.sk-serial {display: flex;flex-direction: column;align-items: center;background-color: white;padding-right: 0.2em;padding-left: 0.2em;position: relative;}#sk-container-id-1 div.sk-item {position: relative;z-index: 1;}#sk-container-id-1 div.sk-parallel {display: flex;align-items: stretch;justify-content: center;background-color: white;position: relative;}#sk-container-id-1 div.sk-item::before, #sk-container-id-1 div.sk-parallel-item::before {content: \"\";position: absolute;border-left: 1px solid gray;box-sizing: border-box;top: 0;bottom: 0;left: 50%;z-index: -1;}#sk-container-id-1 div.sk-parallel-item {display: flex;flex-direction: column;z-index: 1;position: relative;background-color: white;}#sk-container-id-1 div.sk-parallel-item:first-child::after {align-self: flex-end;width: 50%;}#sk-container-id-1 div.sk-parallel-item:last-child::after {align-self: flex-start;width: 50%;}#sk-container-id-1 div.sk-parallel-item:only-child::after {width: 0;}#sk-container-id-1 div.sk-dashed-wrapped {border: 1px dashed gray;margin: 0 0.4em 0.5em 0.4em;box-sizing: border-box;padding-bottom: 0.4em;background-color: white;}#sk-container-id-1 div.sk-label label {font-family: monospace;font-weight: bold;display: inline-block;line-height: 1.2em;}#sk-container-id-1 div.sk-label-container {text-align: center;}#sk-container-id-1 div.sk-container {/* jupyter's `normalize.less` sets `[hidden] { display: none; }` but bootstrap.min.css set `[hidden] { display: none !important; }` so we also need the `!important` here to be able to override the default hidden behavior on the sphinx rendered scikit-learn.org. See: https://github.com/scikit-learn/scikit-learn/issues/21755 */display: inline-block !important;position: relative;}#sk-container-id-1 div.sk-text-repr-fallback {display: none;}</style><div id=\"sk-container-id-1\" class=\"sk-top-container\"><div class=\"sk-text-repr-fallback\"><pre>RandomForestRegressor(max_depth=15, n_estimators=1000, random_state=0)</pre><b>In a Jupyter environment, please rerun this cell to show the HTML representation or trust the notebook. <br />On GitHub, the HTML representation is unable to render, please try loading this page with nbviewer.org.</b></div><div class=\"sk-container\" hidden><div class=\"sk-item\"><div class=\"sk-estimator sk-toggleable\"><input class=\"sk-toggleable__control sk-hidden--visually\" id=\"sk-estimator-id-1\" type=\"checkbox\" checked><label for=\"sk-estimator-id-1\" class=\"sk-toggleable__label sk-toggleable__label-arrow\">RandomForestRegressor</label><div class=\"sk-toggleable__content\"><pre>RandomForestRegressor(max_depth=15, n_estimators=1000, random_state=0)</pre></div></div></div></div></div>"
            ]
          },
          "metadata": {},
          "execution_count": 43
        }
      ]
    },
    {
      "cell_type": "code",
      "source": [
        "y_pred_train = model_forest.predict(X_train)"
      ],
      "metadata": {
        "id": "1sL9kThBXLgV"
      },
      "execution_count": 45,
      "outputs": []
    },
    {
      "cell_type": "code",
      "source": [
        "y_pred_test = model_forest.predict(X_test)"
      ],
      "metadata": {
        "id": "UFk5O9MAXRBK"
      },
      "execution_count": 47,
      "outputs": []
    },
    {
      "cell_type": "code",
      "source": [
        "from sklearn.metrics import mean_squared_error\n",
        "\n",
        "score = model_forest.score(X_train, y_train)\n",
        "print(\"R2 do Treinamento:\", score)\n",
        "\n",
        "#y_train = scaleY.inverse_transform(y_train.reshape(-1,1))            #convert 1d array to 2d array\n",
        "#y_pred_train = scaleY.inverse_transform(y_pred_train.reshape(-1,1))  #convert 1d array to 2d array\n",
        "\n",
        "print(\"RMSE do Trainamento:\", np.sqrt(mean_squared_error(y_pred_train, y_train)))"
      ],
      "metadata": {
        "colab": {
          "base_uri": "https://localhost:8080/"
        },
        "id": "bHqmeaIYXaCD",
        "outputId": "805bee9b-ac25-4b8f-993a-83aee4a6a7bc"
      },
      "execution_count": 49,
      "outputs": [
        {
          "output_type": "stream",
          "name": "stdout",
          "text": [
            "R2 do Treinamento: 0.9010166385205786\n",
            "RMSE do Trainamento: 31384.247179611477\n"
          ]
        }
      ]
    },
    {
      "cell_type": "code",
      "source": [
        "score = model_forest.score(X_test, y_test)\n",
        "print(\"R2 do Teste  :\", score)\n",
        "\n",
        "#y_test = scaleY.inverse_transform(y_test.reshape(-1,1))\n",
        "#y_pred_test = scaleY.inverse_transform(y_pred_test.reshape(-1,1))\n",
        "\n",
        "print(\"RMSE do Teste:\", np.sqrt(mean_squared_error(y_pred_test, y_test)))"
      ],
      "metadata": {
        "colab": {
          "base_uri": "https://localhost:8080/"
        },
        "id": "GzMuaPLBXjV6",
        "outputId": "c3023f56-cadb-48f5-a9d4-4296ba6d2b9b"
      },
      "execution_count": 50,
      "outputs": [
        {
          "output_type": "stream",
          "name": "stdout",
          "text": [
            "R2 do Teste  : 0.7495816246426839\n",
            "RMSE do Teste: 51310.694870468105\n"
          ]
        }
      ]
    }
  ]
}